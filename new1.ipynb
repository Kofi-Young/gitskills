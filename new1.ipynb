{
  "nbformat": 4,
  "nbformat_minor": 0,
  "metadata": {
    "colab": {
      "name": "new.ipynb",
      "provenance": [],
      "collapsed_sections": [],
      "authorship_tag": "ABX9TyMuGFDMCoy3Vlt8IU/4H+lz",
      "include_colab_link": true
    },
    "kernelspec": {
      "name": "python3",
      "display_name": "Python 3"
    }
  },
  "cells": [
    {
      "cell_type": "markdown",
      "metadata": {
        "id": "view-in-github",
        "colab_type": "text"
      },
      "source": [
        "<a href=\"https://colab.research.google.com/github/Kofi-Young/gitskills/blob/master/new1.ipynb\" target=\"_parent\"><img src=\"https://colab.research.google.com/assets/colab-badge.svg\" alt=\"Open In Colab\"/></a>"
      ]
    },
    {
      "cell_type": "code",
      "metadata": {
        "id": "rqDNI6uVJ7gM",
        "colab_type": "code",
        "outputId": "18706f26-882f-4a9c-9845-71b9492c3a2e",
        "colab": {
          "base_uri": "https://localhost:8080/",
          "height": 1000
        }
      },
      "source": [
        "!pip install quandl\n",
        "!pip install pyfolio\n",
        "import pandas as pd\n",
        "import numpy as np\n",
        "import matplotlib.pyplot as plt\n",
        "import seaborn as sns\n",
        "\n",
        "import quandl\n",
        "import pyfolio as pf\n",
        "\n",
        "#Split\n",
        "from sklearn.model_selection import train_test_split,TimeSeriesSplit,GridSearchCV\n",
        "#Feature selection / dimension reduction\n",
        "from sklearn.preprocessing import StandardScaler\n",
        "from sklearn.decomposition import PCA\n",
        "from sklearn.feature_selection import RFECV,SelectPercentile,f_regression\n",
        "#Performance evaluation\n",
        "from sklearn import metrics\n",
        "\n",
        "# Classifiers\n",
        "from sklearn.discriminant_analysis import LinearDiscriminantAnalysis\n",
        "from sklearn.ensemble import AdaBoostClassifier, BaggingClassifier, ExtraTreesClassifier, GradientBoostingClassifier, RandomForestClassifier\n",
        "from sklearn.linear_model import RidgeClassifier, SGDClassifier, LogisticRegression,PassiveAggressiveClassifier\n",
        "from sklearn.svm import LinearSVC, NuSVC, SVC\n",
        "from sklearn.tree import DecisionTreeClassifier, ExtraTreeClassifier\n",
        "\n",
        "import warnings\n",
        "warnings.filterwarnings('ignore')\n",
        "\n",
        "quandl.ApiConfig.api_key = \"WLMxat9y7vVtegz9ZEe5\"\n",
        "start = '2000-01-01'\n",
        "end = '2020-04-30'\n",
        "\n",
        "np.random.seed(seed=1)"
      ],
      "execution_count": 2,
      "outputs": [
        {
          "output_type": "stream",
          "text": [
            "Collecting quandl\n",
            "  Downloading https://files.pythonhosted.org/packages/07/ab/8cd479fba8a9b197a43a0d55dd534b066fb8e5a0a04b5c0384cbc5d663aa/Quandl-3.5.0-py2.py3-none-any.whl\n",
            "Requirement already satisfied: numpy>=1.8 in /usr/local/lib/python3.6/dist-packages (from quandl) (1.18.4)\n",
            "Collecting inflection>=0.3.1\n",
            "  Downloading https://files.pythonhosted.org/packages/52/c1/36be286d85dbd76527fb613527222a795d7c071da195fa916e7bf3cb03cb/inflection-0.4.0-py2.py3-none-any.whl\n",
            "Requirement already satisfied: more-itertools in /usr/local/lib/python3.6/dist-packages (from quandl) (8.3.0)\n",
            "Requirement already satisfied: pandas>=0.14 in /usr/local/lib/python3.6/dist-packages (from quandl) (1.0.3)\n",
            "Requirement already satisfied: six in /usr/local/lib/python3.6/dist-packages (from quandl) (1.12.0)\n",
            "Requirement already satisfied: requests>=2.7.0 in /usr/local/lib/python3.6/dist-packages (from quandl) (2.23.0)\n",
            "Requirement already satisfied: python-dateutil in /usr/local/lib/python3.6/dist-packages (from quandl) (2.8.1)\n",
            "Requirement already satisfied: pytz>=2017.2 in /usr/local/lib/python3.6/dist-packages (from pandas>=0.14->quandl) (2018.9)\n",
            "Requirement already satisfied: urllib3!=1.25.0,!=1.25.1,<1.26,>=1.21.1 in /usr/local/lib/python3.6/dist-packages (from requests>=2.7.0->quandl) (1.24.3)\n",
            "Requirement already satisfied: certifi>=2017.4.17 in /usr/local/lib/python3.6/dist-packages (from requests>=2.7.0->quandl) (2020.4.5.1)\n",
            "Requirement already satisfied: chardet<4,>=3.0.2 in /usr/local/lib/python3.6/dist-packages (from requests>=2.7.0->quandl) (3.0.4)\n",
            "Requirement already satisfied: idna<3,>=2.5 in /usr/local/lib/python3.6/dist-packages (from requests>=2.7.0->quandl) (2.9)\n",
            "Installing collected packages: inflection, quandl\n",
            "Successfully installed inflection-0.4.0 quandl-3.5.0\n",
            "Collecting pyfolio\n",
            "\u001b[?25l  Downloading https://files.pythonhosted.org/packages/28/b4/99799b743c4619752f88b70354924132a2e9b82f4656fe7c55eaa9101392/pyfolio-0.9.2.tar.gz (91kB)\n",
            "\u001b[K     |████████████████████████████████| 92kB 2.2MB/s \n",
            "\u001b[?25hRequirement already satisfied: ipython>=3.2.3 in /usr/local/lib/python3.6/dist-packages (from pyfolio) (5.5.0)\n",
            "Requirement already satisfied: matplotlib>=1.4.0 in /usr/local/lib/python3.6/dist-packages (from pyfolio) (3.2.1)\n",
            "Requirement already satisfied: numpy>=1.11.1 in /usr/local/lib/python3.6/dist-packages (from pyfolio) (1.18.4)\n",
            "Requirement already satisfied: pandas>=0.18.1 in /usr/local/lib/python3.6/dist-packages (from pyfolio) (1.0.3)\n",
            "Requirement already satisfied: pytz>=2014.10 in /usr/local/lib/python3.6/dist-packages (from pyfolio) (2018.9)\n",
            "Requirement already satisfied: scipy>=0.14.0 in /usr/local/lib/python3.6/dist-packages (from pyfolio) (1.4.1)\n",
            "Requirement already satisfied: scikit-learn>=0.16.1 in /usr/local/lib/python3.6/dist-packages (from pyfolio) (0.22.2.post1)\n",
            "Requirement already satisfied: seaborn>=0.7.1 in /usr/local/lib/python3.6/dist-packages (from pyfolio) (0.10.1)\n",
            "Collecting empyrical>=0.5.0\n",
            "\u001b[?25l  Downloading https://files.pythonhosted.org/packages/84/9e/9506e8b25464ff57ef93b5ba9092b464b44dc76b717695b126b3c93214a2/empyrical-0.5.3.tar.gz (50kB)\n",
            "\u001b[K     |████████████████████████████████| 51kB 6.3MB/s \n",
            "\u001b[?25hRequirement already satisfied: prompt-toolkit<2.0.0,>=1.0.4 in /usr/local/lib/python3.6/dist-packages (from ipython>=3.2.3->pyfolio) (1.0.18)\n",
            "Requirement already satisfied: traitlets>=4.2 in /usr/local/lib/python3.6/dist-packages (from ipython>=3.2.3->pyfolio) (4.3.3)\n",
            "Requirement already satisfied: simplegeneric>0.8 in /usr/local/lib/python3.6/dist-packages (from ipython>=3.2.3->pyfolio) (0.8.1)\n",
            "Requirement already satisfied: decorator in /usr/local/lib/python3.6/dist-packages (from ipython>=3.2.3->pyfolio) (4.4.2)\n",
            "Requirement already satisfied: setuptools>=18.5 in /usr/local/lib/python3.6/dist-packages (from ipython>=3.2.3->pyfolio) (46.3.0)\n",
            "Requirement already satisfied: pygments in /usr/local/lib/python3.6/dist-packages (from ipython>=3.2.3->pyfolio) (2.1.3)\n",
            "Requirement already satisfied: pexpect; sys_platform != \"win32\" in /usr/local/lib/python3.6/dist-packages (from ipython>=3.2.3->pyfolio) (4.8.0)\n",
            "Requirement already satisfied: pickleshare in /usr/local/lib/python3.6/dist-packages (from ipython>=3.2.3->pyfolio) (0.7.5)\n",
            "Requirement already satisfied: pyparsing!=2.0.4,!=2.1.2,!=2.1.6,>=2.0.1 in /usr/local/lib/python3.6/dist-packages (from matplotlib>=1.4.0->pyfolio) (2.4.7)\n",
            "Requirement already satisfied: python-dateutil>=2.1 in /usr/local/lib/python3.6/dist-packages (from matplotlib>=1.4.0->pyfolio) (2.8.1)\n",
            "Requirement already satisfied: cycler>=0.10 in /usr/local/lib/python3.6/dist-packages (from matplotlib>=1.4.0->pyfolio) (0.10.0)\n",
            "Requirement already satisfied: kiwisolver>=1.0.1 in /usr/local/lib/python3.6/dist-packages (from matplotlib>=1.4.0->pyfolio) (1.2.0)\n",
            "Requirement already satisfied: joblib>=0.11 in /usr/local/lib/python3.6/dist-packages (from scikit-learn>=0.16.1->pyfolio) (0.15.1)\n",
            "Requirement already satisfied: pandas-datareader>=0.2 in /usr/local/lib/python3.6/dist-packages (from empyrical>=0.5.0->pyfolio) (0.8.1)\n",
            "Requirement already satisfied: six>=1.9.0 in /usr/local/lib/python3.6/dist-packages (from prompt-toolkit<2.0.0,>=1.0.4->ipython>=3.2.3->pyfolio) (1.12.0)\n",
            "Requirement already satisfied: wcwidth in /usr/local/lib/python3.6/dist-packages (from prompt-toolkit<2.0.0,>=1.0.4->ipython>=3.2.3->pyfolio) (0.1.9)\n",
            "Requirement already satisfied: ipython-genutils in /usr/local/lib/python3.6/dist-packages (from traitlets>=4.2->ipython>=3.2.3->pyfolio) (0.2.0)\n",
            "Requirement already satisfied: ptyprocess>=0.5 in /usr/local/lib/python3.6/dist-packages (from pexpect; sys_platform != \"win32\"->ipython>=3.2.3->pyfolio) (0.6.0)\n",
            "Requirement already satisfied: requests>=2.3.0 in /usr/local/lib/python3.6/dist-packages (from pandas-datareader>=0.2->empyrical>=0.5.0->pyfolio) (2.23.0)\n",
            "Requirement already satisfied: lxml in /usr/local/lib/python3.6/dist-packages (from pandas-datareader>=0.2->empyrical>=0.5.0->pyfolio) (4.2.6)\n",
            "Requirement already satisfied: certifi>=2017.4.17 in /usr/local/lib/python3.6/dist-packages (from requests>=2.3.0->pandas-datareader>=0.2->empyrical>=0.5.0->pyfolio) (2020.4.5.1)\n",
            "Requirement already satisfied: idna<3,>=2.5 in /usr/local/lib/python3.6/dist-packages (from requests>=2.3.0->pandas-datareader>=0.2->empyrical>=0.5.0->pyfolio) (2.9)\n",
            "Requirement already satisfied: chardet<4,>=3.0.2 in /usr/local/lib/python3.6/dist-packages (from requests>=2.3.0->pandas-datareader>=0.2->empyrical>=0.5.0->pyfolio) (3.0.4)\n",
            "Requirement already satisfied: urllib3!=1.25.0,!=1.25.1,<1.26,>=1.21.1 in /usr/local/lib/python3.6/dist-packages (from requests>=2.3.0->pandas-datareader>=0.2->empyrical>=0.5.0->pyfolio) (1.24.3)\n",
            "Building wheels for collected packages: pyfolio, empyrical\n",
            "  Building wheel for pyfolio (setup.py) ... \u001b[?25l\u001b[?25hdone\n",
            "  Created wheel for pyfolio: filename=pyfolio-0.9.2-cp36-none-any.whl size=88668 sha256=51e1da854a74aee0b48e65187cfd2a908b93b58da5e445ecb42d5f6f4091f966\n",
            "  Stored in directory: /root/.cache/pip/wheels/0d/a8/7d/ac33fe6bf6f3db370291c9de303460d00b8f97cc40a1d80f72\n",
            "  Building wheel for empyrical (setup.py) ... \u001b[?25l\u001b[?25hdone\n",
            "  Created wheel for empyrical: filename=empyrical-0.5.3-cp36-none-any.whl size=37087 sha256=07552e588d90703e692f0e9687451c2e2b9a5975bdb37a7255959748e8aabd72\n",
            "  Stored in directory: /root/.cache/pip/wheels/10/a4/3b/951bd609878a82fd72b9ea23699daf1eaada4ff6f583152876\n",
            "Successfully built pyfolio empyrical\n",
            "Installing collected packages: empyrical, pyfolio\n",
            "Successfully installed empyrical-0.5.3 pyfolio-0.9.2\n"
          ],
          "name": "stdout"
        },
        {
          "output_type": "stream",
          "text": [
            "/usr/local/lib/python3.6/dist-packages/statsmodels/tools/_testing.py:19: FutureWarning: pandas.util.testing is deprecated. Use the functions in the public API at pandas.testing instead.\n",
            "  import pandas.util.testing as tm\n",
            "/usr/local/lib/python3.6/dist-packages/pyfolio/pos.py:28: UserWarning: Module \"zipline.assets\" not found; mutltipliers will not be applied to position notionals.\n",
            "  ' to position notionals.'\n"
          ],
          "name": "stderr"
        }
      ]
    },
    {
      "cell_type": "code",
      "metadata": {
        "id": "97thpvYaKC0q",
        "colab_type": "code",
        "colab": {}
      },
      "source": [
        "#Daily data from Quandl\n",
        "quandl_dict= {\n",
        "    #futures\n",
        "    'gold' :\"CHRIS/CME_GC1.4\", #Gold Futures, Continuous Contract #1 (GC1) (Front Month)\n",
        "    'eurodollar': \"CHRIS/CME_ED1.4\", #Eurodollar Futures, Continuous Contract #1 (ED1) (Front Month)\n",
        "    'silver': \"CHRIS/CME_SI1.4\", #Silver Futures, Continuous Contract #1 (SI1) (Front Month)\n",
        "    'DCOILWTICO': \"FRED/DCOILWTICO.4\", #Crude Oil Prices: West Texas Intermediate (WTI) - Cushing, Oklahoma\n",
        "    #major currency pair spot rates\n",
        "    'USDCAD': \"FED/RXI_N_B_CA\", #CANADA -- SPOT EXCHANGE RATE, CANADIAN $/US$, Business day\n",
        "    'EURUSD': \"FED/RXI_US_N_B_EU\", #SPOT EXCHANGE RATE - EURO AREA, Business day\n",
        "    'GBPUSD': \"FED/RXI_US_N_B_UK\", #UNITED KINGDOM -- SPOT EXCHANGE RATE, US$/POUND (1/RXI_N.B.UK), Business day\n",
        "    'USDJPY': \"FED/RXI_N_B_JA\", #JAPAN -- SPOT EXCHANGE RATE, YEN/US$, Business day\n",
        "    'AUDUSD': \"FED/RXI_US_N_B_AL\", #AUSTRALIA -- SPOT EXCHANGE RATE US$/AU$ (RECIPROCAL OF RXI_N.B.AL), Business day\n",
        "    'NZDUSD': \"FED/RXI_US_N_B_NZ\", #NEW ZEALAND -- SPOT EXCHANGE RATE, US$/NZ$ RECIPROCAL OF RXI_N.B.NZ, Business day\n",
        "    'USDCHF': \"FED/RXI_N_B_SZ\", #SWITZERLAND -- SPOT EXCHANGE RATE, FRANCS/US$, Business day\n",
        "    'USDNOK': \"FED/RXI_N_B_NO\", #NORWAY -- SPOT EXCHANGE RATE, KRONER/US$, Business day\n",
        "    'USDCNY': \"FED/RXI_N_B_CH\", #CHINA -- SPOT EXCHANGE RATE, YUAN/US$ P.R., Business day\n",
        "    'USDINR': \"FED/RXI_N_B_IN\", #INDIA -- SPOT EXCHANGE RATE, RUPEES/US$, Business day\n",
        "    'DTWEXM': \"FRED/DTWEXM\", #Trade Weighted U.S. Dollar Index: Major Currencies\n",
        "    'DTWEXB': \"FRED/DTWEXB\", #Trade Weighted U.S. Dollar Index: Broad\n",
        "    #Interest rates\n",
        "    'DFF': \"FRED/DFF\", #Effective Federal Funds Rate\n",
        "    'DTB3': \"FRED/DTB3\", #3-Month Treasury Bill: Secondary Market Rate\n",
        "    'DGS5': \"FRED/DGS5\", #5-Year Treasury Constant Maturity Rate\n",
        "    'DGS10': \"FRED/DGS10\",#10-Year Treasury Constant Maturity Rate\n",
        "    'DGS30': \"FRED/DGS30\", #30-Year Treasury Constant Maturity Rate\n",
        "    'T5YIE': \"FRED/T5YIE\", #5-year Breakeven Inflation Rate\n",
        "    'T10YIE': \"FRED/T10YIE\", #10-year Breakeven Inflation Rate\n",
        "    'T5YIFR': \"FRED/T5YIFR\",#5-Year, 5-Year Forward Inflation Expectation Rate \n",
        "    'TEDRATE': \"FRED/TEDRATE\", #TED Spread\n",
        "    'DPRIME': \"FRED/DPRIME\" #Bank Prime Loan Rate\n",
        "}"
      ],
      "execution_count": 0,
      "outputs": []
    },
    {
      "cell_type": "code",
      "metadata": {
        "id": "zw55Vi5-KL_F",
        "colab_type": "code",
        "colab": {}
      },
      "source": [
        "#Local files (Source: yahoo finance)\n",
        "local_files = {\n",
        "    'VIX':\"https://raw.githubusercontent.com/YizhouTang/SP500_Classfication_Models/master/data/VIX.csv\", #Vix index\n",
        "    #Sector ETFs:\n",
        "    'XLE':\"https://raw.githubusercontent.com/YizhouTang/SP500_Classfication_Models/master/data/XLE.csv\", #Energy Select Sector SPDR Fund \n",
        "    'XLF':\"https://raw.githubusercontent.com/YizhouTang/SP500_Classfication_Models/master/data/XLF.csv\", #Financial Select Sector SPDR Fund\n",
        "    'XLU':\"https://raw.githubusercontent.com/YizhouTang/SP500_Classfication_Models/master/data/XLU.csv\", #Utilities Select Sector SPDR Fund\n",
        "    'XLI':\"https://raw.githubusercontent.com/YizhouTang/SP500_Classfication_Models/master/data/XLI.csv\", #Industrial Select Sector SPDR Fund\n",
        "    'XLK':\"https://raw.githubusercontent.com/YizhouTang/SP500_Classfication_Models/master/data/XLK.csv\", #Technology Select Sector SPDR Fund\n",
        "    'XLV':\"https://raw.githubusercontent.com/YizhouTang/SP500_Classfication_Models/master/data/XLV.csv\", #Health Care Select Sector SPDR Fund\n",
        "    'XLY':\"https://raw.githubusercontent.com/YizhouTang/SP500_Classfication_Models/master/data/XLY.csv\", #Consumer Discretionary Select Sector SPDR Fund\n",
        "    'XLP':\"https://raw.githubusercontent.com/YizhouTang/SP500_Classfication_Models/master/data/XLP.csv\", #Consumer Staples Select Sector SPDR Fund\n",
        "    'XLB':\"https://raw.githubusercontent.com/YizhouTang/SP500_Classfication_Models/master/data/XLB.csv\", #Materials Select Sector SPDR Fund\n",
        "}"
      ],
      "execution_count": 0,
      "outputs": []
    },
    {
      "cell_type": "code",
      "metadata": {
        "id": "HI2DjE_6KVI9",
        "colab_type": "code",
        "colab": {}
      },
      "source": [
        "# Import SPY\n",
        "url = \"https://raw.githubusercontent.com/YizhouTang/SP500_Classfication_Models/master/data/SPY.csv\"\n",
        "\n",
        "#df = pd.read_csv('SPY.csv',index_col = 'Date',parse_dates = True)\n",
        "df = pd.read_csv(url,index_col = 'Date',parse_dates = True)"
      ],
      "execution_count": 0,
      "outputs": []
    },
    {
      "cell_type": "code",
      "metadata": {
        "id": "YCNbUwlZKX-T",
        "colab_type": "code",
        "colab": {}
      },
      "source": [
        "#Function to get data from Quandl.\n",
        "def get_quandl_data(df,quandl_dict,start,end):\n",
        "    data = quandl.get(list(quandl_dict.values()), start_date=start, end_date=end)\n",
        "    data.columns = list(quandl_dict.keys())\n",
        "    df = pd.concat([df, data.reindex(df.index)], axis=1)\n",
        "    return df\n",
        "\n",
        "#Function to get data from Quandl.\n",
        "def get_local_data(df,local_files,start,end):\n",
        "    for i in local_files:\n",
        "        url = local_files[i]\n",
        "        df_temp = pd.read_csv(url,index_col='Date',parse_dates = True)\n",
        "        df_temp = df_temp['Adj Close'].to_frame()\n",
        "        df_temp.columns = [i]\n",
        "        df = pd.concat([df, df_temp.reindex(df.index)], axis=1)\n",
        "\n",
        "    mask = (df.index>=pd.to_datetime(start)) & (df.index <=pd.to_datetime(end))\n",
        "    df = df.loc[mask]\n",
        "    return df\n",
        "\n",
        "#Function to get sparse econ data (frequence != daily) from Quandl.\n",
        "#Also compute the change in economic data.\n",
        "#All econ data are preproccessed using ffill.\n",
        "def get_sparse_econ_data(df,econ_dict,start,end):\n",
        "    #Get raw econ data\n",
        "    data = quandl.get(list(econ_dict.values()), start_date=start, end_date=end)\n",
        "    data.columns = list(econ_dict.keys())\n",
        "    #Get econ data, transformed using percentage return\n",
        "    ret_data = quandl.get(list(econ_dict.values()), start_date=start, end_date=end,transform = \"rdiff\")\n",
        "    ret_data.columns = [col + '_ret' for col in list(econ_dict.keys())]\n",
        "\n",
        "    data = data.ffill()\n",
        "    data = data.reindex(df.index)\n",
        "    data = data.ffill()\n",
        "\n",
        "    ret_data = ret_data.ffill()\n",
        "    ret_data = ret_data.reindex(df.index)\n",
        "    ret_data = ret_data.ffill()\n",
        "\n",
        "    df = pd.concat([df,data ,ret_data], axis=1)\n",
        "\n",
        "    return df"
      ],
      "execution_count": 0,
      "outputs": []
    },
    {
      "cell_type": "code",
      "metadata": {
        "id": "3lnmSnAiKapu",
        "colab_type": "code",
        "colab": {}
      },
      "source": [
        "#Function to compute additional derived features\n",
        "#It iterates through each existing feature and compute key statistics (rolling) for multiple lookback periods.\n",
        "def derive_features(df):\n",
        "    features = df.columns\n",
        "    #Iterate through each column in df\n",
        "    for col in features:\n",
        "        if col != 'y':\n",
        "            #Daily change\n",
        "            df[col+'_ret'] = df[col].pct_change()\n",
        "            df[col+'_diff'] = df[col].diff()\n",
        "            #Lookback periods\n",
        "            lookback = [5,21, 63, 126, 252]#1 week, 1 month, 1 quarter, half year, 1 year\n",
        "            \n",
        "            #Compute key statistics for each lookback period\n",
        "            for i in lookback:\n",
        "                df[col+'_ret_' + str(i)] = df[col]/df[col].shift(i)-1\n",
        "                #Return-based\n",
        "                df[col+'_rolling_mean_' + str(i)] = df[col+'_ret'].rolling(i).mean()\n",
        "                df[col+'_rolling_median_' + str(i)] = df[col+'_ret'].rolling(i).median()\n",
        "                df[col+'_rolling_stdev_' + str(i)] = df[col+'_ret'].rolling(i).std()\n",
        "                df[col+ '_rolling_skew_' + str(i)] = df[col+'_ret'].rolling(i).skew()\n",
        "                df[col+ '_rolling_kurt_' + str(i)] = df[col+'_ret'].rolling(i).kurt()\n",
        "                df[col+ '_rolling_min_' + str(i)] = df[col+'_ret'].rolling(i).min()\n",
        "                df[col+ '_rolling_max_' + str(i)] = df[col+'_ret'].rolling(i).max()\n",
        "                df[col+ '_rolling_corr_' + str(i)] = df[col+'_ret'].rolling(i).corr()\n",
        "                df[col+ '_ewma_' + str(i)] = pd.DataFrame.ewm(df[col], span= i).mean()\n",
        "                #Relative level\n",
        "                df[col+'_rel_lvl_mean_' + str(i)] = df[col]/df[col].rolling(i).mean()\n",
        "                df[col+'_rel_lvl_min_' + str(i)] = df[col]/df[col].rolling(i).min()\n",
        "                df[col+'_rel_lvl_max_' + str(i)] = df[col]/df[col].rolling(i).max()                        \n",
        "    return df"
      ],
      "execution_count": 0,
      "outputs": []
    },
    {
      "cell_type": "code",
      "metadata": {
        "id": "-Gpr4LjfJ8pB",
        "colab_type": "code",
        "colab": {}
      },
      "source": [
        "df = get_quandl_data(df,quandl_dict,start,end)\n",
        "df = get_local_data(df,local_files,start,end)\n",
        "\n",
        "# Compute additional derived features.\n",
        "df = derive_features(df)  "
      ],
      "execution_count": 0,
      "outputs": []
    },
    {
      "cell_type": "code",
      "metadata": {
        "id": "cRhXACudKhSe",
        "colab_type": "code",
        "outputId": "5a3065a9-f78a-44ee-f244-6d6479ed87d4",
        "colab": {
          "base_uri": "https://localhost:8080/",
          "height": 35
        }
      },
      "source": [
        "df = df.tz_localize(tz='US/Eastern')\n",
        "\n",
        "#rmissingvaluecol is a helper function that removes columns that have nans more than the threshold percentage\n",
        "def rmissingvaluecol(df,threshold):\n",
        "    l = []\n",
        "    l = list(df.drop(df.loc[:,list((100*(df.isnull().sum()/len(df.index))>=threshold))].columns, 1).columns.values)\n",
        "    print(\"# Columns having more than %s percent missing values:\"%threshold,(df.shape[1] - len(l)))\n",
        "    return l\n",
        "\n",
        "df = df.replace([np.inf, -np.inf], np.nan)\n",
        "\n",
        "cols = rmissingvaluecol(df,1) #Here threshold is 1% which means we are going to drop columns having more than 1% of missing values\n",
        "\n",
        "df_dropped_na= df[cols]\n",
        "\n",
        "df_dropped_na = df_dropped_na.dropna()"
      ],
      "execution_count": 9,
      "outputs": [
        {
          "output_type": "stream",
          "text": [
            "# Columns having more than 1 percent missing values: 1888\n"
          ],
          "name": "stdout"
        }
      ]
    },
    {
      "cell_type": "code",
      "metadata": {
        "id": "DfatQ6fBK6fY",
        "colab_type": "code",
        "outputId": "64ae33bf-46c2-4c10-d58b-c565a6e9e302",
        "colab": {
          "base_uri": "https://localhost:8080/",
          "height": 35
        }
      },
      "source": [
        "df_dropped_na.shape"
      ],
      "execution_count": 10,
      "outputs": [
        {
          "output_type": "execute_result",
          "data": {
            "text/plain": [
              "(4997, 968)"
            ]
          },
          "metadata": {
            "tags": []
          },
          "execution_count": 10
        }
      ]
    },
    {
      "cell_type": "code",
      "metadata": {
        "id": "cHR8CY64LHAy",
        "colab_type": "code",
        "colab": {}
      },
      "source": [
        "num_train = int(0.9*len(df_dropped_na))"
      ],
      "execution_count": 0,
      "outputs": []
    },
    {
      "cell_type": "code",
      "metadata": {
        "id": "P0mIHariLWf6",
        "colab_type": "code",
        "colab": {}
      },
      "source": [
        "y_pre = df_dropped_na['Adj Close']\n",
        "X_pre = df_dropped_na\n",
        "X_pre = X_pre.drop(['Adj Close'], axis = 1)"
      ],
      "execution_count": 0,
      "outputs": []
    },
    {
      "cell_type": "code",
      "metadata": {
        "id": "L_T77sQxd-uz",
        "colab_type": "code",
        "colab": {
          "base_uri": "https://localhost:8080/",
          "height": 975
        },
        "outputId": "7acf5ffc-d840-4b82-b209-5f7d458cba9d"
      },
      "source": [
        "X_pre"
      ],
      "execution_count": 42,
      "outputs": [
        {
          "output_type": "execute_result",
          "data": {
            "text/html": [
              "<div>\n",
              "<style scoped>\n",
              "    .dataframe tbody tr th:only-of-type {\n",
              "        vertical-align: middle;\n",
              "    }\n",
              "\n",
              "    .dataframe tbody tr th {\n",
              "        vertical-align: top;\n",
              "    }\n",
              "\n",
              "    .dataframe thead th {\n",
              "        text-align: right;\n",
              "    }\n",
              "</style>\n",
              "<table border=\"1\" class=\"dataframe\">\n",
              "  <thead>\n",
              "    <tr style=\"text-align: right;\">\n",
              "      <th></th>\n",
              "      <th>Open</th>\n",
              "      <th>High</th>\n",
              "      <th>Low</th>\n",
              "      <th>Close</th>\n",
              "      <th>Volume</th>\n",
              "      <th>eurodollar</th>\n",
              "      <th>USDCAD</th>\n",
              "      <th>EURUSD</th>\n",
              "      <th>GBPUSD</th>\n",
              "      <th>USDJPY</th>\n",
              "      <th>AUDUSD</th>\n",
              "      <th>NZDUSD</th>\n",
              "      <th>USDCHF</th>\n",
              "      <th>USDNOK</th>\n",
              "      <th>USDCNY</th>\n",
              "      <th>USDINR</th>\n",
              "      <th>DFF</th>\n",
              "      <th>DTB3</th>\n",
              "      <th>DGS5</th>\n",
              "      <th>DGS10</th>\n",
              "      <th>DPRIME</th>\n",
              "      <th>VIX</th>\n",
              "      <th>XLE</th>\n",
              "      <th>XLF</th>\n",
              "      <th>XLU</th>\n",
              "      <th>XLI</th>\n",
              "      <th>XLK</th>\n",
              "      <th>XLV</th>\n",
              "      <th>XLY</th>\n",
              "      <th>XLP</th>\n",
              "      <th>XLB</th>\n",
              "      <th>Open_ret</th>\n",
              "      <th>Open_diff</th>\n",
              "      <th>Open_ret_5</th>\n",
              "      <th>Open_rolling_mean_5</th>\n",
              "      <th>Open_rolling_median_5</th>\n",
              "      <th>Open_rolling_stdev_5</th>\n",
              "      <th>Open_rolling_skew_5</th>\n",
              "      <th>Open_rolling_kurt_5</th>\n",
              "      <th>Open_rolling_min_5</th>\n",
              "      <th>...</th>\n",
              "      <th>XLP_rolling_max_21</th>\n",
              "      <th>XLP_rolling_corr_21</th>\n",
              "      <th>XLP_ewma_21</th>\n",
              "      <th>XLP_rel_lvl_mean_21</th>\n",
              "      <th>XLP_rel_lvl_min_21</th>\n",
              "      <th>XLP_rel_lvl_max_21</th>\n",
              "      <th>XLP_ewma_63</th>\n",
              "      <th>XLP_ewma_126</th>\n",
              "      <th>XLP_ewma_252</th>\n",
              "      <th>XLB_ret</th>\n",
              "      <th>XLB_diff</th>\n",
              "      <th>XLB_ret_5</th>\n",
              "      <th>XLB_rolling_mean_5</th>\n",
              "      <th>XLB_rolling_median_5</th>\n",
              "      <th>XLB_rolling_stdev_5</th>\n",
              "      <th>XLB_rolling_skew_5</th>\n",
              "      <th>XLB_rolling_kurt_5</th>\n",
              "      <th>XLB_rolling_min_5</th>\n",
              "      <th>XLB_rolling_max_5</th>\n",
              "      <th>XLB_rolling_corr_5</th>\n",
              "      <th>XLB_ewma_5</th>\n",
              "      <th>XLB_rel_lvl_mean_5</th>\n",
              "      <th>XLB_rel_lvl_min_5</th>\n",
              "      <th>XLB_rel_lvl_max_5</th>\n",
              "      <th>XLB_ret_21</th>\n",
              "      <th>XLB_rolling_mean_21</th>\n",
              "      <th>XLB_rolling_median_21</th>\n",
              "      <th>XLB_rolling_stdev_21</th>\n",
              "      <th>XLB_rolling_skew_21</th>\n",
              "      <th>XLB_rolling_kurt_21</th>\n",
              "      <th>XLB_rolling_min_21</th>\n",
              "      <th>XLB_rolling_max_21</th>\n",
              "      <th>XLB_rolling_corr_21</th>\n",
              "      <th>XLB_ewma_21</th>\n",
              "      <th>XLB_rel_lvl_mean_21</th>\n",
              "      <th>XLB_rel_lvl_min_21</th>\n",
              "      <th>XLB_rel_lvl_max_21</th>\n",
              "      <th>XLB_ewma_63</th>\n",
              "      <th>XLB_ewma_126</th>\n",
              "      <th>XLB_ewma_252</th>\n",
              "    </tr>\n",
              "    <tr>\n",
              "      <th>Date</th>\n",
              "      <th></th>\n",
              "      <th></th>\n",
              "      <th></th>\n",
              "      <th></th>\n",
              "      <th></th>\n",
              "      <th></th>\n",
              "      <th></th>\n",
              "      <th></th>\n",
              "      <th></th>\n",
              "      <th></th>\n",
              "      <th></th>\n",
              "      <th></th>\n",
              "      <th></th>\n",
              "      <th></th>\n",
              "      <th></th>\n",
              "      <th></th>\n",
              "      <th></th>\n",
              "      <th></th>\n",
              "      <th></th>\n",
              "      <th></th>\n",
              "      <th></th>\n",
              "      <th></th>\n",
              "      <th></th>\n",
              "      <th></th>\n",
              "      <th></th>\n",
              "      <th></th>\n",
              "      <th></th>\n",
              "      <th></th>\n",
              "      <th></th>\n",
              "      <th></th>\n",
              "      <th></th>\n",
              "      <th></th>\n",
              "      <th></th>\n",
              "      <th></th>\n",
              "      <th></th>\n",
              "      <th></th>\n",
              "      <th></th>\n",
              "      <th></th>\n",
              "      <th></th>\n",
              "      <th></th>\n",
              "      <th></th>\n",
              "      <th></th>\n",
              "      <th></th>\n",
              "      <th></th>\n",
              "      <th></th>\n",
              "      <th></th>\n",
              "      <th></th>\n",
              "      <th></th>\n",
              "      <th></th>\n",
              "      <th></th>\n",
              "      <th></th>\n",
              "      <th></th>\n",
              "      <th></th>\n",
              "      <th></th>\n",
              "      <th></th>\n",
              "      <th></th>\n",
              "      <th></th>\n",
              "      <th></th>\n",
              "      <th></th>\n",
              "      <th></th>\n",
              "      <th></th>\n",
              "      <th></th>\n",
              "      <th></th>\n",
              "      <th></th>\n",
              "      <th></th>\n",
              "      <th></th>\n",
              "      <th></th>\n",
              "      <th></th>\n",
              "      <th></th>\n",
              "      <th></th>\n",
              "      <th></th>\n",
              "      <th></th>\n",
              "      <th></th>\n",
              "      <th></th>\n",
              "      <th></th>\n",
              "      <th></th>\n",
              "      <th></th>\n",
              "      <th></th>\n",
              "      <th></th>\n",
              "      <th></th>\n",
              "      <th></th>\n",
              "    </tr>\n",
              "  </thead>\n",
              "  <tbody>\n",
              "    <tr>\n",
              "      <th>2000-02-03 00:00:00-05:00</th>\n",
              "      <td>140.875000</td>\n",
              "      <td>143.250000</td>\n",
              "      <td>140.000000</td>\n",
              "      <td>143.187500</td>\n",
              "      <td>7997500</td>\n",
              "      <td>93.725</td>\n",
              "      <td>1.4417</td>\n",
              "      <td>0.9887</td>\n",
              "      <td>1.6025</td>\n",
              "      <td>107.92</td>\n",
              "      <td>0.6387</td>\n",
              "      <td>0.4967</td>\n",
              "      <td>1.6255</td>\n",
              "      <td>8.1580</td>\n",
              "      <td>8.2781</td>\n",
              "      <td>43.65</td>\n",
              "      <td>5.71</td>\n",
              "      <td>5.46</td>\n",
              "      <td>6.56</td>\n",
              "      <td>6.49</td>\n",
              "      <td>8.75</td>\n",
              "      <td>22.010000</td>\n",
              "      <td>17.223690</td>\n",
              "      <td>9.475562</td>\n",
              "      <td>13.162952</td>\n",
              "      <td>18.544994</td>\n",
              "      <td>41.750828</td>\n",
              "      <td>23.423964</td>\n",
              "      <td>21.845388</td>\n",
              "      <td>14.221502</td>\n",
              "      <td>14.706469</td>\n",
              "      <td>-0.002875</td>\n",
              "      <td>-0.406250</td>\n",
              "      <td>-0.006830</td>\n",
              "      <td>-0.001178</td>\n",
              "      <td>-0.002875</td>\n",
              "      <td>0.021941</td>\n",
              "      <td>0.395236</td>\n",
              "      <td>-1.032279</td>\n",
              "      <td>-0.025997</td>\n",
              "      <td>...</td>\n",
              "      <td>0.063395</td>\n",
              "      <td>1.0</td>\n",
              "      <td>14.466807</td>\n",
              "      <td>0.974983</td>\n",
              "      <td>1.016060</td>\n",
              "      <td>0.932692</td>\n",
              "      <td>14.518572</td>\n",
              "      <td>14.529206</td>\n",
              "      <td>14.533897</td>\n",
              "      <td>-0.017027</td>\n",
              "      <td>-0.254746</td>\n",
              "      <td>-0.017671</td>\n",
              "      <td>-0.003469</td>\n",
              "      <td>-0.005992</td>\n",
              "      <td>0.015029</td>\n",
              "      <td>0.680600</td>\n",
              "      <td>-0.953760</td>\n",
              "      <td>-0.017027</td>\n",
              "      <td>0.018084</td>\n",
              "      <td>1.0</td>\n",
              "      <td>14.841972</td>\n",
              "      <td>0.994962</td>\n",
              "      <td>1.005358</td>\n",
              "      <td>0.982973</td>\n",
              "      <td>-0.088092</td>\n",
              "      <td>-0.004236</td>\n",
              "      <td>-0.005992</td>\n",
              "      <td>0.017507</td>\n",
              "      <td>0.962076</td>\n",
              "      <td>0.935641</td>\n",
              "      <td>-0.026428</td>\n",
              "      <td>0.041312</td>\n",
              "      <td>1.0</td>\n",
              "      <td>15.387051</td>\n",
              "      <td>0.928508</td>\n",
              "      <td>1.005358</td>\n",
              "      <td>0.853811</td>\n",
              "      <td>15.700549</td>\n",
              "      <td>15.785586</td>\n",
              "      <td>15.828226</td>\n",
              "    </tr>\n",
              "    <tr>\n",
              "      <th>2000-02-04 00:00:00-05:00</th>\n",
              "      <td>143.187500</td>\n",
              "      <td>144.000000</td>\n",
              "      <td>142.125000</td>\n",
              "      <td>142.593750</td>\n",
              "      <td>4925400</td>\n",
              "      <td>93.720</td>\n",
              "      <td>1.4467</td>\n",
              "      <td>0.9760</td>\n",
              "      <td>1.5915</td>\n",
              "      <td>107.54</td>\n",
              "      <td>0.6315</td>\n",
              "      <td>0.4930</td>\n",
              "      <td>1.6470</td>\n",
              "      <td>8.2700</td>\n",
              "      <td>8.2788</td>\n",
              "      <td>43.65</td>\n",
              "      <td>5.70</td>\n",
              "      <td>5.50</td>\n",
              "      <td>6.64</td>\n",
              "      <td>6.53</td>\n",
              "      <td>8.75</td>\n",
              "      <td>21.540001</td>\n",
              "      <td>16.727045</td>\n",
              "      <td>9.378209</td>\n",
              "      <td>13.095022</td>\n",
              "      <td>18.620127</td>\n",
              "      <td>42.238579</td>\n",
              "      <td>23.505219</td>\n",
              "      <td>21.808962</td>\n",
              "      <td>14.211734</td>\n",
              "      <td>14.686873</td>\n",
              "      <td>0.016415</td>\n",
              "      <td>2.312500</td>\n",
              "      <td>0.026894</td>\n",
              "      <td>0.005498</td>\n",
              "      <td>0.010957</td>\n",
              "      <td>0.020994</td>\n",
              "      <td>-0.783440</td>\n",
              "      <td>0.420617</td>\n",
              "      <td>-0.025997</td>\n",
              "      <td>...</td>\n",
              "      <td>0.063395</td>\n",
              "      <td>1.0</td>\n",
              "      <td>14.440999</td>\n",
              "      <td>0.973878</td>\n",
              "      <td>1.015363</td>\n",
              "      <td>0.932051</td>\n",
              "      <td>14.500590</td>\n",
              "      <td>14.513424</td>\n",
              "      <td>14.519213</td>\n",
              "      <td>-0.001332</td>\n",
              "      <td>-0.019596</td>\n",
              "      <td>-0.001997</td>\n",
              "      <td>-0.000332</td>\n",
              "      <td>-0.001332</td>\n",
              "      <td>0.012993</td>\n",
              "      <td>0.290908</td>\n",
              "      <td>0.523158</td>\n",
              "      <td>-0.017027</td>\n",
              "      <td>0.018084</td>\n",
              "      <td>1.0</td>\n",
              "      <td>14.790269</td>\n",
              "      <td>0.994032</td>\n",
              "      <td>1.004019</td>\n",
              "      <td>0.981663</td>\n",
              "      <td>-0.125438</td>\n",
              "      <td>-0.006267</td>\n",
              "      <td>-0.005992</td>\n",
              "      <td>0.014102</td>\n",
              "      <td>0.460038</td>\n",
              "      <td>-0.147440</td>\n",
              "      <td>-0.026428</td>\n",
              "      <td>0.025671</td>\n",
              "      <td>1.0</td>\n",
              "      <td>15.316206</td>\n",
              "      <td>0.933181</td>\n",
              "      <td>1.004019</td>\n",
              "      <td>0.852673</td>\n",
              "      <td>15.641145</td>\n",
              "      <td>15.730969</td>\n",
              "      <td>15.776204</td>\n",
              "    </tr>\n",
              "    <tr>\n",
              "      <th>2000-02-07 00:00:00-05:00</th>\n",
              "      <td>142.562500</td>\n",
              "      <td>142.781250</td>\n",
              "      <td>141.437500</td>\n",
              "      <td>142.375000</td>\n",
              "      <td>5845800</td>\n",
              "      <td>93.720</td>\n",
              "      <td>1.4457</td>\n",
              "      <td>0.9783</td>\n",
              "      <td>1.5917</td>\n",
              "      <td>108.75</td>\n",
              "      <td>0.6339</td>\n",
              "      <td>0.4936</td>\n",
              "      <td>1.6426</td>\n",
              "      <td>8.2590</td>\n",
              "      <td>8.2788</td>\n",
              "      <td>43.64</td>\n",
              "      <td>5.76</td>\n",
              "      <td>5.47</td>\n",
              "      <td>6.76</td>\n",
              "      <td>6.64</td>\n",
              "      <td>8.75</td>\n",
              "      <td>22.790001</td>\n",
              "      <td>16.915773</td>\n",
              "      <td>9.280859</td>\n",
              "      <td>13.057293</td>\n",
              "      <td>18.298155</td>\n",
              "      <td>42.726326</td>\n",
              "      <td>23.122164</td>\n",
              "      <td>21.347523</td>\n",
              "      <td>14.192191</td>\n",
              "      <td>14.402741</td>\n",
              "      <td>-0.004365</td>\n",
              "      <td>-0.625000</td>\n",
              "      <td>0.049701</td>\n",
              "      <td>0.009825</td>\n",
              "      <td>0.010957</td>\n",
              "      <td>0.013917</td>\n",
              "      <td>0.374678</td>\n",
              "      <td>-1.222012</td>\n",
              "      <td>-0.004365</td>\n",
              "      <td>...</td>\n",
              "      <td>0.063395</td>\n",
              "      <td>1.0</td>\n",
              "      <td>14.416080</td>\n",
              "      <td>0.973004</td>\n",
              "      <td>1.013966</td>\n",
              "      <td>0.930769</td>\n",
              "      <td>14.482998</td>\n",
              "      <td>14.497980</td>\n",
              "      <td>14.504848</td>\n",
              "      <td>-0.019346</td>\n",
              "      <td>-0.284132</td>\n",
              "      <td>-0.015405</td>\n",
              "      <td>-0.003003</td>\n",
              "      <td>-0.001332</td>\n",
              "      <td>0.015565</td>\n",
              "      <td>0.298236</td>\n",
              "      <td>-1.374853</td>\n",
              "      <td>-0.019346</td>\n",
              "      <td>0.018084</td>\n",
              "      <td>1.0</td>\n",
              "      <td>14.661088</td>\n",
              "      <td>0.977784</td>\n",
              "      <td>1.000000</td>\n",
              "      <td>0.962672</td>\n",
              "      <td>-0.163823</td>\n",
              "      <td>-0.008411</td>\n",
              "      <td>-0.007009</td>\n",
              "      <td>0.012312</td>\n",
              "      <td>0.243702</td>\n",
              "      <td>-0.736223</td>\n",
              "      <td>-0.026428</td>\n",
              "      <td>0.018084</td>\n",
              "      <td>1.0</td>\n",
              "      <td>15.224720</td>\n",
              "      <td>0.923008</td>\n",
              "      <td>1.000000</td>\n",
              "      <td>0.836653</td>\n",
              "      <td>15.570504</td>\n",
              "      <td>15.667111</td>\n",
              "      <td>15.715875</td>\n",
              "    </tr>\n",
              "    <tr>\n",
              "      <th>2000-02-08 00:00:00-05:00</th>\n",
              "      <td>143.968750</td>\n",
              "      <td>144.562500</td>\n",
              "      <td>143.625000</td>\n",
              "      <td>144.312500</td>\n",
              "      <td>4936400</td>\n",
              "      <td>93.730</td>\n",
              "      <td>1.4473</td>\n",
              "      <td>0.9862</td>\n",
              "      <td>1.6105</td>\n",
              "      <td>109.59</td>\n",
              "      <td>0.6353</td>\n",
              "      <td>0.4940</td>\n",
              "      <td>1.6301</td>\n",
              "      <td>8.1835</td>\n",
              "      <td>8.2788</td>\n",
              "      <td>43.63</td>\n",
              "      <td>5.67</td>\n",
              "      <td>5.52</td>\n",
              "      <td>6.74</td>\n",
              "      <td>6.59</td>\n",
              "      <td>8.75</td>\n",
              "      <td>21.250000</td>\n",
              "      <td>16.766775</td>\n",
              "      <td>9.384703</td>\n",
              "      <td>13.087480</td>\n",
              "      <td>18.373295</td>\n",
              "      <td>43.116524</td>\n",
              "      <td>23.377531</td>\n",
              "      <td>21.833246</td>\n",
              "      <td>14.368129</td>\n",
              "      <td>14.363553</td>\n",
              "      <td>0.009864</td>\n",
              "      <td>1.406250</td>\n",
              "      <td>0.030188</td>\n",
              "      <td>0.005999</td>\n",
              "      <td>0.009864</td>\n",
              "      <td>0.009140</td>\n",
              "      <td>-0.274205</td>\n",
              "      <td>-2.566764</td>\n",
              "      <td>-0.004365</td>\n",
              "      <td>...</td>\n",
              "      <td>0.018686</td>\n",
              "      <td>1.0</td>\n",
              "      <td>14.411321</td>\n",
              "      <td>0.987904</td>\n",
              "      <td>1.026536</td>\n",
              "      <td>0.950841</td>\n",
              "      <td>14.476611</td>\n",
              "      <td>14.491933</td>\n",
              "      <td>14.499052</td>\n",
              "      <td>-0.002721</td>\n",
              "      <td>-0.039188</td>\n",
              "      <td>-0.035526</td>\n",
              "      <td>-0.007164</td>\n",
              "      <td>-0.002721</td>\n",
              "      <td>0.010464</td>\n",
              "      <td>-0.309402</td>\n",
              "      <td>-2.554769</td>\n",
              "      <td>-0.019346</td>\n",
              "      <td>0.004606</td>\n",
              "      <td>1.0</td>\n",
              "      <td>14.561907</td>\n",
              "      <td>0.982179</td>\n",
              "      <td>1.000000</td>\n",
              "      <td>0.960053</td>\n",
              "      <td>-0.165623</td>\n",
              "      <td>-0.008513</td>\n",
              "      <td>-0.007009</td>\n",
              "      <td>0.012252</td>\n",
              "      <td>0.266061</td>\n",
              "      <td>-0.679648</td>\n",
              "      <td>-0.026428</td>\n",
              "      <td>0.018084</td>\n",
              "      <td>1.0</td>\n",
              "      <td>15.139262</td>\n",
              "      <td>0.928576</td>\n",
              "      <td>1.000000</td>\n",
              "      <td>0.837236</td>\n",
              "      <td>15.503388</td>\n",
              "      <td>15.606401</td>\n",
              "      <td>15.658539</td>\n",
              "    </tr>\n",
              "    <tr>\n",
              "      <th>2000-02-09 00:00:00-05:00</th>\n",
              "      <td>144.468750</td>\n",
              "      <td>144.468750</td>\n",
              "      <td>141.265625</td>\n",
              "      <td>141.281250</td>\n",
              "      <td>8511500</td>\n",
              "      <td>93.730</td>\n",
              "      <td>1.4443</td>\n",
              "      <td>0.9914</td>\n",
              "      <td>1.6115</td>\n",
              "      <td>109.11</td>\n",
              "      <td>0.6345</td>\n",
              "      <td>0.4920</td>\n",
              "      <td>1.6232</td>\n",
              "      <td>8.1450</td>\n",
              "      <td>8.2788</td>\n",
              "      <td>43.65</td>\n",
              "      <td>5.76</td>\n",
              "      <td>5.49</td>\n",
              "      <td>6.77</td>\n",
              "      <td>6.56</td>\n",
              "      <td>8.75</td>\n",
              "      <td>22.900000</td>\n",
              "      <td>16.210531</td>\n",
              "      <td>9.164033</td>\n",
              "      <td>13.087480</td>\n",
              "      <td>18.180115</td>\n",
              "      <td>42.579990</td>\n",
              "      <td>22.959661</td>\n",
              "      <td>21.468954</td>\n",
              "      <td>14.241060</td>\n",
              "      <td>14.079414</td>\n",
              "      <td>0.003473</td>\n",
              "      <td>0.500000</td>\n",
              "      <td>0.022561</td>\n",
              "      <td>0.004502</td>\n",
              "      <td>0.003473</td>\n",
              "      <td>0.008729</td>\n",
              "      <td>0.466615</td>\n",
              "      <td>-1.516661</td>\n",
              "      <td>-0.004365</td>\n",
              "      <td>...</td>\n",
              "      <td>0.018686</td>\n",
              "      <td>1.0</td>\n",
              "      <td>14.394565</td>\n",
              "      <td>0.981302</td>\n",
              "      <td>1.017458</td>\n",
              "      <td>0.942432</td>\n",
              "      <td>14.463824</td>\n",
              "      <td>14.480598</td>\n",
              "      <td>14.488478</td>\n",
              "      <td>-0.019782</td>\n",
              "      <td>-0.284139</td>\n",
              "      <td>-0.058939</td>\n",
              "      <td>-0.012042</td>\n",
              "      <td>-0.017027</td>\n",
              "      <td>0.009215</td>\n",
              "      <td>0.564713</td>\n",
              "      <td>-3.189235</td>\n",
              "      <td>-0.019782</td>\n",
              "      <td>-0.001332</td>\n",
              "      <td>1.0</td>\n",
              "      <td>14.401073</td>\n",
              "      <td>0.974502</td>\n",
              "      <td>1.000000</td>\n",
              "      <td>0.957362</td>\n",
              "      <td>-0.179326</td>\n",
              "      <td>-0.009293</td>\n",
              "      <td>-0.011994</td>\n",
              "      <td>0.012431</td>\n",
              "      <td>0.417953</td>\n",
              "      <td>-0.698944</td>\n",
              "      <td>-0.026428</td>\n",
              "      <td>0.018084</td>\n",
              "      <td>1.0</td>\n",
              "      <td>15.034956</td>\n",
              "      <td>0.918910</td>\n",
              "      <td>1.000000</td>\n",
              "      <td>0.830636</td>\n",
              "      <td>15.426086</td>\n",
              "      <td>15.537413</td>\n",
              "      <td>15.593820</td>\n",
              "    </tr>\n",
              "    <tr>\n",
              "      <th>...</th>\n",
              "      <td>...</td>\n",
              "      <td>...</td>\n",
              "      <td>...</td>\n",
              "      <td>...</td>\n",
              "      <td>...</td>\n",
              "      <td>...</td>\n",
              "      <td>...</td>\n",
              "      <td>...</td>\n",
              "      <td>...</td>\n",
              "      <td>...</td>\n",
              "      <td>...</td>\n",
              "      <td>...</td>\n",
              "      <td>...</td>\n",
              "      <td>...</td>\n",
              "      <td>...</td>\n",
              "      <td>...</td>\n",
              "      <td>...</td>\n",
              "      <td>...</td>\n",
              "      <td>...</td>\n",
              "      <td>...</td>\n",
              "      <td>...</td>\n",
              "      <td>...</td>\n",
              "      <td>...</td>\n",
              "      <td>...</td>\n",
              "      <td>...</td>\n",
              "      <td>...</td>\n",
              "      <td>...</td>\n",
              "      <td>...</td>\n",
              "      <td>...</td>\n",
              "      <td>...</td>\n",
              "      <td>...</td>\n",
              "      <td>...</td>\n",
              "      <td>...</td>\n",
              "      <td>...</td>\n",
              "      <td>...</td>\n",
              "      <td>...</td>\n",
              "      <td>...</td>\n",
              "      <td>...</td>\n",
              "      <td>...</td>\n",
              "      <td>...</td>\n",
              "      <td>...</td>\n",
              "      <td>...</td>\n",
              "      <td>...</td>\n",
              "      <td>...</td>\n",
              "      <td>...</td>\n",
              "      <td>...</td>\n",
              "      <td>...</td>\n",
              "      <td>...</td>\n",
              "      <td>...</td>\n",
              "      <td>...</td>\n",
              "      <td>...</td>\n",
              "      <td>...</td>\n",
              "      <td>...</td>\n",
              "      <td>...</td>\n",
              "      <td>...</td>\n",
              "      <td>...</td>\n",
              "      <td>...</td>\n",
              "      <td>...</td>\n",
              "      <td>...</td>\n",
              "      <td>...</td>\n",
              "      <td>...</td>\n",
              "      <td>...</td>\n",
              "      <td>...</td>\n",
              "      <td>...</td>\n",
              "      <td>...</td>\n",
              "      <td>...</td>\n",
              "      <td>...</td>\n",
              "      <td>...</td>\n",
              "      <td>...</td>\n",
              "      <td>...</td>\n",
              "      <td>...</td>\n",
              "      <td>...</td>\n",
              "      <td>...</td>\n",
              "      <td>...</td>\n",
              "      <td>...</td>\n",
              "      <td>...</td>\n",
              "      <td>...</td>\n",
              "      <td>...</td>\n",
              "      <td>...</td>\n",
              "      <td>...</td>\n",
              "      <td>...</td>\n",
              "    </tr>\n",
              "    <tr>\n",
              "      <th>2020-04-16 00:00:00-04:00</th>\n",
              "      <td>279.149994</td>\n",
              "      <td>280.029999</td>\n",
              "      <td>275.760010</td>\n",
              "      <td>279.100006</td>\n",
              "      <td>131798300</td>\n",
              "      <td>99.540</td>\n",
              "      <td>1.4141</td>\n",
              "      <td>1.0840</td>\n",
              "      <td>1.2433</td>\n",
              "      <td>107.72</td>\n",
              "      <td>0.6301</td>\n",
              "      <td>0.5947</td>\n",
              "      <td>0.9695</td>\n",
              "      <td>10.4691</td>\n",
              "      <td>7.0778</td>\n",
              "      <td>76.75</td>\n",
              "      <td>0.05</td>\n",
              "      <td>0.14</td>\n",
              "      <td>0.35</td>\n",
              "      <td>0.61</td>\n",
              "      <td>3.25</td>\n",
              "      <td>40.110001</td>\n",
              "      <td>30.690001</td>\n",
              "      <td>21.270000</td>\n",
              "      <td>58.639999</td>\n",
              "      <td>60.270000</td>\n",
              "      <td>88.089996</td>\n",
              "      <td>98.730003</td>\n",
              "      <td>109.690002</td>\n",
              "      <td>59.590000</td>\n",
              "      <td>48.320000</td>\n",
              "      <td>0.005692</td>\n",
              "      <td>1.579987</td>\n",
              "      <td>0.041760</td>\n",
              "      <td>0.008346</td>\n",
              "      <td>0.005692</td>\n",
              "      <td>0.018130</td>\n",
              "      <td>0.804040</td>\n",
              "      <td>0.829644</td>\n",
              "      <td>-0.012136</td>\n",
              "      <td>...</td>\n",
              "      <td>0.054738</td>\n",
              "      <td>1.0</td>\n",
              "      <td>56.943724</td>\n",
              "      <td>1.081097</td>\n",
              "      <td>1.225375</td>\n",
              "      <td>0.990690</td>\n",
              "      <td>58.372949</td>\n",
              "      <td>59.198468</td>\n",
              "      <td>58.443729</td>\n",
              "      <td>-0.005761</td>\n",
              "      <td>-0.279998</td>\n",
              "      <td>-0.019878</td>\n",
              "      <td>-0.003549</td>\n",
              "      <td>-0.005761</td>\n",
              "      <td>0.033836</td>\n",
              "      <td>0.246592</td>\n",
              "      <td>-0.263054</td>\n",
              "      <td>-0.045936</td>\n",
              "      <td>0.043002</td>\n",
              "      <td>1.0</td>\n",
              "      <td>48.935629</td>\n",
              "      <td>0.968065</td>\n",
              "      <td>1.000000</td>\n",
              "      <td>0.939712</td>\n",
              "      <td>0.106777</td>\n",
              "      <td>0.005850</td>\n",
              "      <td>0.012925</td>\n",
              "      <td>0.046429</td>\n",
              "      <td>0.530664</td>\n",
              "      <td>0.021731</td>\n",
              "      <td>-0.063936</td>\n",
              "      <td>0.117601</td>\n",
              "      <td>1.0</td>\n",
              "      <td>47.448904</td>\n",
              "      <td>1.068040</td>\n",
              "      <td>1.259974</td>\n",
              "      <td>0.939712</td>\n",
              "      <td>50.851341</td>\n",
              "      <td>53.530544</td>\n",
              "      <td>54.773613</td>\n",
              "    </tr>\n",
              "    <tr>\n",
              "      <th>2020-04-17 00:00:00-04:00</th>\n",
              "      <td>285.380005</td>\n",
              "      <td>287.299988</td>\n",
              "      <td>282.399994</td>\n",
              "      <td>286.640015</td>\n",
              "      <td>146684800</td>\n",
              "      <td>99.550</td>\n",
              "      <td>1.4026</td>\n",
              "      <td>1.0883</td>\n",
              "      <td>1.2503</td>\n",
              "      <td>107.52</td>\n",
              "      <td>0.6357</td>\n",
              "      <td>0.6034</td>\n",
              "      <td>0.9662</td>\n",
              "      <td>10.3099</td>\n",
              "      <td>7.0711</td>\n",
              "      <td>76.56</td>\n",
              "      <td>0.05</td>\n",
              "      <td>0.12</td>\n",
              "      <td>0.36</td>\n",
              "      <td>0.65</td>\n",
              "      <td>3.25</td>\n",
              "      <td>38.150002</td>\n",
              "      <td>33.950001</td>\n",
              "      <td>22.389999</td>\n",
              "      <td>60.529999</td>\n",
              "      <td>63.099998</td>\n",
              "      <td>89.260002</td>\n",
              "      <td>100.779999</td>\n",
              "      <td>112.930000</td>\n",
              "      <td>60.500000</td>\n",
              "      <td>50.259998</td>\n",
              "      <td>0.022318</td>\n",
              "      <td>6.230011</td>\n",
              "      <td>0.028100</td>\n",
              "      <td>0.005629</td>\n",
              "      <td>0.005692</td>\n",
              "      <td>0.013359</td>\n",
              "      <td>-0.135810</td>\n",
              "      <td>-0.760059</td>\n",
              "      <td>-0.012136</td>\n",
              "      <td>...</td>\n",
              "      <td>0.054738</td>\n",
              "      <td>1.0</td>\n",
              "      <td>57.267022</td>\n",
              "      <td>1.092822</td>\n",
              "      <td>1.244088</td>\n",
              "      <td>1.000000</td>\n",
              "      <td>58.439420</td>\n",
              "      <td>59.218964</td>\n",
              "      <td>58.459984</td>\n",
              "      <td>0.040149</td>\n",
              "      <td>1.939998</td>\n",
              "      <td>-0.022559</td>\n",
              "      <td>-0.004120</td>\n",
              "      <td>-0.005761</td>\n",
              "      <td>0.032865</td>\n",
              "      <td>0.151285</td>\n",
              "      <td>-0.409388</td>\n",
              "      <td>-0.045936</td>\n",
              "      <td>0.040149</td>\n",
              "      <td>1.0</td>\n",
              "      <td>49.377085</td>\n",
              "      <td>1.011634</td>\n",
              "      <td>1.040149</td>\n",
              "      <td>0.986651</td>\n",
              "      <td>0.229845</td>\n",
              "      <td>0.010807</td>\n",
              "      <td>0.015113</td>\n",
              "      <td>0.044104</td>\n",
              "      <td>0.489739</td>\n",
              "      <td>0.056763</td>\n",
              "      <td>-0.050978</td>\n",
              "      <td>0.117601</td>\n",
              "      <td>1.0</td>\n",
              "      <td>47.704458</td>\n",
              "      <td>1.100045</td>\n",
              "      <td>1.310561</td>\n",
              "      <td>0.977441</td>\n",
              "      <td>50.832861</td>\n",
              "      <td>53.479039</td>\n",
              "      <td>54.737932</td>\n",
              "    </tr>\n",
              "    <tr>\n",
              "      <th>2020-04-20 00:00:00-04:00</th>\n",
              "      <td>282.609985</td>\n",
              "      <td>286.790009</td>\n",
              "      <td>281.350006</td>\n",
              "      <td>281.589996</td>\n",
              "      <td>100109300</td>\n",
              "      <td>99.510</td>\n",
              "      <td>1.4067</td>\n",
              "      <td>1.0874</td>\n",
              "      <td>1.2467</td>\n",
              "      <td>107.69</td>\n",
              "      <td>0.6387</td>\n",
              "      <td>0.6075</td>\n",
              "      <td>0.9670</td>\n",
              "      <td>10.3634</td>\n",
              "      <td>7.0721</td>\n",
              "      <td>76.56</td>\n",
              "      <td>0.05</td>\n",
              "      <td>0.12</td>\n",
              "      <td>0.35</td>\n",
              "      <td>0.63</td>\n",
              "      <td>3.25</td>\n",
              "      <td>43.830002</td>\n",
              "      <td>32.889999</td>\n",
              "      <td>22.000000</td>\n",
              "      <td>58.240002</td>\n",
              "      <td>61.419998</td>\n",
              "      <td>87.830002</td>\n",
              "      <td>99.980003</td>\n",
              "      <td>110.959999</td>\n",
              "      <td>59.310001</td>\n",
              "      <td>49.020000</td>\n",
              "      <td>-0.009706</td>\n",
              "      <td>-2.770020</td>\n",
              "      <td>0.019737</td>\n",
              "      <td>0.004005</td>\n",
              "      <td>0.005692</td>\n",
              "      <td>0.014864</td>\n",
              "      <td>0.040580</td>\n",
              "      <td>-2.235754</td>\n",
              "      <td>-0.012136</td>\n",
              "      <td>...</td>\n",
              "      <td>0.054738</td>\n",
              "      <td>1.0</td>\n",
              "      <td>57.452747</td>\n",
              "      <td>1.066076</td>\n",
              "      <td>1.219618</td>\n",
              "      <td>0.980331</td>\n",
              "      <td>58.466625</td>\n",
              "      <td>59.220398</td>\n",
              "      <td>58.466703</td>\n",
              "      <td>-0.024672</td>\n",
              "      <td>-1.239998</td>\n",
              "      <td>-0.025254</td>\n",
              "      <td>-0.004659</td>\n",
              "      <td>-0.005761</td>\n",
              "      <td>0.033251</td>\n",
              "      <td>0.193302</td>\n",
              "      <td>-0.647579</td>\n",
              "      <td>-0.045936</td>\n",
              "      <td>0.040149</td>\n",
              "      <td>1.0</td>\n",
              "      <td>49.258057</td>\n",
              "      <td>0.991746</td>\n",
              "      <td>1.014487</td>\n",
              "      <td>0.962309</td>\n",
              "      <td>0.169650</td>\n",
              "      <td>0.008417</td>\n",
              "      <td>0.012925</td>\n",
              "      <td>0.044624</td>\n",
              "      <td>0.620856</td>\n",
              "      <td>0.059053</td>\n",
              "      <td>-0.050978</td>\n",
              "      <td>0.117601</td>\n",
              "      <td>1.0</td>\n",
              "      <td>47.824053</td>\n",
              "      <td>1.065013</td>\n",
              "      <td>1.278227</td>\n",
              "      <td>0.953326</td>\n",
              "      <td>50.776209</td>\n",
              "      <td>53.408818</td>\n",
              "      <td>54.692731</td>\n",
              "    </tr>\n",
              "    <tr>\n",
              "      <th>2020-04-21 00:00:00-04:00</th>\n",
              "      <td>276.730011</td>\n",
              "      <td>278.040009</td>\n",
              "      <td>272.019989</td>\n",
              "      <td>273.040009</td>\n",
              "      <td>126385700</td>\n",
              "      <td>99.525</td>\n",
              "      <td>1.4199</td>\n",
              "      <td>1.0854</td>\n",
              "      <td>1.2266</td>\n",
              "      <td>107.69</td>\n",
              "      <td>0.6279</td>\n",
              "      <td>0.5954</td>\n",
              "      <td>0.9691</td>\n",
              "      <td>10.5984</td>\n",
              "      <td>7.0914</td>\n",
              "      <td>76.95</td>\n",
              "      <td>0.05</td>\n",
              "      <td>0.11</td>\n",
              "      <td>0.34</td>\n",
              "      <td>0.58</td>\n",
              "      <td>3.25</td>\n",
              "      <td>45.410000</td>\n",
              "      <td>32.310001</td>\n",
              "      <td>21.290001</td>\n",
              "      <td>57.279999</td>\n",
              "      <td>59.970001</td>\n",
              "      <td>84.150002</td>\n",
              "      <td>96.940002</td>\n",
              "      <td>108.080002</td>\n",
              "      <td>58.049999</td>\n",
              "      <td>47.810001</td>\n",
              "      <td>-0.020806</td>\n",
              "      <td>-5.879974</td>\n",
              "      <td>-0.015126</td>\n",
              "      <td>-0.002928</td>\n",
              "      <td>-0.009706</td>\n",
              "      <td>0.017044</td>\n",
              "      <td>0.835077</td>\n",
              "      <td>-0.250753</td>\n",
              "      <td>-0.020806</td>\n",
              "      <td>...</td>\n",
              "      <td>0.054738</td>\n",
              "      <td>1.0</td>\n",
              "      <td>57.507043</td>\n",
              "      <td>1.036387</td>\n",
              "      <td>1.193708</td>\n",
              "      <td>0.959504</td>\n",
              "      <td>58.453606</td>\n",
              "      <td>59.201966</td>\n",
              "      <td>58.463409</td>\n",
              "      <td>-0.024684</td>\n",
              "      <td>-1.209999</td>\n",
              "      <td>-0.061445</td>\n",
              "      <td>-0.012181</td>\n",
              "      <td>-0.024672</td>\n",
              "      <td>0.032525</td>\n",
              "      <td>1.225544</td>\n",
              "      <td>1.883042</td>\n",
              "      <td>-0.045936</td>\n",
              "      <td>0.040149</td>\n",
              "      <td>1.0</td>\n",
              "      <td>48.775372</td>\n",
              "      <td>0.979673</td>\n",
              "      <td>1.000000</td>\n",
              "      <td>0.951254</td>\n",
              "      <td>0.183123</td>\n",
              "      <td>0.008946</td>\n",
              "      <td>0.012925</td>\n",
              "      <td>0.044137</td>\n",
              "      <td>0.634117</td>\n",
              "      <td>0.134220</td>\n",
              "      <td>-0.050978</td>\n",
              "      <td>0.117601</td>\n",
              "      <td>1.0</td>\n",
              "      <td>47.822775</td>\n",
              "      <td>1.030832</td>\n",
              "      <td>1.246675</td>\n",
              "      <td>0.929794</td>\n",
              "      <td>50.683515</td>\n",
              "      <td>53.320648</td>\n",
              "      <td>54.638322</td>\n",
              "    </tr>\n",
              "    <tr>\n",
              "      <th>2020-04-22 00:00:00-04:00</th>\n",
              "      <td>278.350006</td>\n",
              "      <td>281.000000</td>\n",
              "      <td>276.910004</td>\n",
              "      <td>279.100006</td>\n",
              "      <td>93524600</td>\n",
              "      <td>99.545</td>\n",
              "      <td>1.4132</td>\n",
              "      <td>1.0829</td>\n",
              "      <td>1.2332</td>\n",
              "      <td>107.81</td>\n",
              "      <td>0.6320</td>\n",
              "      <td>0.5949</td>\n",
              "      <td>0.9711</td>\n",
              "      <td>10.7640</td>\n",
              "      <td>7.0831</td>\n",
              "      <td>76.44</td>\n",
              "      <td>0.05</td>\n",
              "      <td>0.12</td>\n",
              "      <td>0.37</td>\n",
              "      <td>0.63</td>\n",
              "      <td>3.25</td>\n",
              "      <td>41.980000</td>\n",
              "      <td>33.459999</td>\n",
              "      <td>21.520000</td>\n",
              "      <td>58.950001</td>\n",
              "      <td>60.599998</td>\n",
              "      <td>87.389999</td>\n",
              "      <td>98.419998</td>\n",
              "      <td>110.410004</td>\n",
              "      <td>58.610001</td>\n",
              "      <td>48.750000</td>\n",
              "      <td>0.005854</td>\n",
              "      <td>1.619995</td>\n",
              "      <td>0.002810</td>\n",
              "      <td>0.000670</td>\n",
              "      <td>0.005692</td>\n",
              "      <td>0.016505</td>\n",
              "      <td>-0.056781</td>\n",
              "      <td>-0.498911</td>\n",
              "      <td>-0.020806</td>\n",
              "      <td>...</td>\n",
              "      <td>0.054738</td>\n",
              "      <td>1.0</td>\n",
              "      <td>57.607312</td>\n",
              "      <td>1.037581</td>\n",
              "      <td>1.149892</td>\n",
              "      <td>0.968760</td>\n",
              "      <td>58.458493</td>\n",
              "      <td>59.192644</td>\n",
              "      <td>58.464568</td>\n",
              "      <td>0.019661</td>\n",
              "      <td>0.939999</td>\n",
              "      <td>0.003086</td>\n",
              "      <td>0.000939</td>\n",
              "      <td>-0.005761</td>\n",
              "      <td>0.028484</td>\n",
              "      <td>0.593680</td>\n",
              "      <td>-1.638617</td>\n",
              "      <td>-0.024684</td>\n",
              "      <td>0.040149</td>\n",
              "      <td>1.0</td>\n",
              "      <td>48.766914</td>\n",
              "      <td>0.998321</td>\n",
              "      <td>1.019661</td>\n",
              "      <td>0.969956</td>\n",
              "      <td>0.271187</td>\n",
              "      <td>0.012309</td>\n",
              "      <td>0.015113</td>\n",
              "      <td>0.041981</td>\n",
              "      <td>0.632287</td>\n",
              "      <td>0.362399</td>\n",
              "      <td>-0.045936</td>\n",
              "      <td>0.117601</td>\n",
              "      <td>1.0</td>\n",
              "      <td>47.907068</td>\n",
              "      <td>1.039995</td>\n",
              "      <td>1.144098</td>\n",
              "      <td>0.948075</td>\n",
              "      <td>50.623093</td>\n",
              "      <td>53.248669</td>\n",
              "      <td>54.591774</td>\n",
              "    </tr>\n",
              "  </tbody>\n",
              "</table>\n",
              "<p>4997 rows × 967 columns</p>\n",
              "</div>"
            ],
            "text/plain": [
              "                                 Open        High  ...  XLB_ewma_126  XLB_ewma_252\n",
              "Date                                               ...                            \n",
              "2000-02-03 00:00:00-05:00  140.875000  143.250000  ...     15.785586     15.828226\n",
              "2000-02-04 00:00:00-05:00  143.187500  144.000000  ...     15.730969     15.776204\n",
              "2000-02-07 00:00:00-05:00  142.562500  142.781250  ...     15.667111     15.715875\n",
              "2000-02-08 00:00:00-05:00  143.968750  144.562500  ...     15.606401     15.658539\n",
              "2000-02-09 00:00:00-05:00  144.468750  144.468750  ...     15.537413     15.593820\n",
              "...                               ...         ...  ...           ...           ...\n",
              "2020-04-16 00:00:00-04:00  279.149994  280.029999  ...     53.530544     54.773613\n",
              "2020-04-17 00:00:00-04:00  285.380005  287.299988  ...     53.479039     54.737932\n",
              "2020-04-20 00:00:00-04:00  282.609985  286.790009  ...     53.408818     54.692731\n",
              "2020-04-21 00:00:00-04:00  276.730011  278.040009  ...     53.320648     54.638322\n",
              "2020-04-22 00:00:00-04:00  278.350006  281.000000  ...     53.248669     54.591774\n",
              "\n",
              "[4997 rows x 967 columns]"
            ]
          },
          "metadata": {
            "tags": []
          },
          "execution_count": 42
        }
      ]
    },
    {
      "cell_type": "code",
      "metadata": {
        "id": "xAey7oxiZ0uW",
        "colab_type": "code",
        "colab": {}
      },
      "source": [
        "scaler = StandardScaler()\n",
        "#Fit scaler using the training data\n",
        "scaler.fit(X_pre[:num_train])\n",
        "X_scaled = scaler.transform(X_pre)"
      ],
      "execution_count": 0,
      "outputs": []
    },
    {
      "cell_type": "code",
      "metadata": {
        "id": "pLTwzPFnaAnn",
        "colab_type": "code",
        "colab": {}
      },
      "source": [
        "#Initialize and fit selector\n",
        "MI_selector = SelectPercentile(f_regression, percentile=10)#Remove the lower 40%\n",
        "MI_selector.fit(X_pre,  y_pre)\n",
        "\n",
        "#Transform\n",
        "X_MI = MI_selector.transform(X_pre)"
      ],
      "execution_count": 0,
      "outputs": []
    },
    {
      "cell_type": "code",
      "metadata": {
        "id": "h6I9ux60aTJI",
        "colab_type": "code",
        "colab": {
          "base_uri": "https://localhost:8080/",
          "height": 35
        },
        "outputId": "90d225a6-5ad2-49be-e958-1bf19460fc5a"
      },
      "source": [
        "X_MI.shape"
      ],
      "execution_count": 14,
      "outputs": [
        {
          "output_type": "execute_result",
          "data": {
            "text/plain": [
              "(4997, 97)"
            ]
          },
          "metadata": {
            "tags": []
          },
          "execution_count": 14
        }
      ]
    },
    {
      "cell_type": "code",
      "metadata": {
        "id": "DRm8C4BoaOMI",
        "colab_type": "code",
        "colab": {}
      },
      "source": [
        "pca = PCA(0.99).fit(X_MI)\n",
        "X_PCA = pca.transform(X_MI)"
      ],
      "execution_count": 0,
      "outputs": []
    },
    {
      "cell_type": "code",
      "metadata": {
        "id": "wWupCFMvaQTr",
        "colab_type": "code",
        "colab": {
          "base_uri": "https://localhost:8080/",
          "height": 35
        },
        "outputId": "7b020cdc-95ac-4aeb-a484-78c3296898c0"
      },
      "source": [
        "pca.n_components_"
      ],
      "execution_count": 122,
      "outputs": [
        {
          "output_type": "execute_result",
          "data": {
            "text/plain": [
              "3"
            ]
          },
          "metadata": {
            "tags": []
          },
          "execution_count": 122
        }
      ]
    },
    {
      "cell_type": "code",
      "metadata": {
        "id": "eEBP1pOqj93p",
        "colab_type": "code",
        "colab": {
          "base_uri": "https://localhost:8080/",
          "height": 54
        },
        "outputId": "66a94360-bb97-4ec7-8029-717581fc4ef8"
      },
      "source": [
        "#X_PCA[:,0]"
      ],
      "execution_count": 94,
      "outputs": [
        {
          "output_type": "execute_result",
          "data": {
            "text/plain": [
              "array([-140.36985762, -138.85138368, -139.2159068 , ...,  752.42436329,\n",
              "        743.47824817,  747.20393111])"
            ]
          },
          "metadata": {
            "tags": []
          },
          "execution_count": 94
        }
      ]
    },
    {
      "cell_type": "code",
      "metadata": {
        "id": "YzmmK7nuajoH",
        "colab_type": "code",
        "colab": {}
      },
      "source": [
        "y_pred = y_pre[:, np.newaxis]\n",
        "#X_PCA = X_PCA[:,0][:, np.newaxis]\n",
        "dataset = np.concatenate((X_PCA, y_pred),axis=1) \n",
        "#dataset = np.concatenate((X_MI, y_pred),axis=1) \n",
        "#dataset = y_pred"
      ],
      "execution_count": 0,
      "outputs": []
    },
    {
      "cell_type": "code",
      "metadata": {
        "id": "FYXiLgwTakrN",
        "colab_type": "code",
        "colab": {
          "base_uri": "https://localhost:8080/",
          "height": 145
        },
        "outputId": "77956e86-d2d5-4edc-924c-8d5408a38d9c"
      },
      "source": [
        "dataset"
      ],
      "execution_count": 124,
      "outputs": [
        {
          "output_type": "execute_result",
          "data": {
            "text/plain": [
              "array([[-140.36985762,   87.54646185,  -32.02725076,   97.856789  ],\n",
              "       [-138.85138368,   88.15093459,  -33.3273697 ,   97.451012  ],\n",
              "       [-139.2159068 ,   88.43093906,  -33.21273796,   97.301529  ],\n",
              "       ...,\n",
              "       [ 752.42436329,   85.01199922,   72.36615503,  281.589996  ],\n",
              "       [ 743.47824817,   85.23440782,   78.54927426,  273.040009  ],\n",
              "       [ 747.20393111,   84.79364565,   75.702806  ,  279.100006  ]])"
            ]
          },
          "metadata": {
            "tags": []
          },
          "execution_count": 124
        }
      ]
    },
    {
      "cell_type": "code",
      "metadata": {
        "id": "ki1sV8pteLKd",
        "colab_type": "code",
        "colab": {}
      },
      "source": [
        "scaler = StandardScaler()\n",
        "#Fit scaler using the training data\n",
        "scaler.fit(dataset[:num_train])\n",
        "data_scaled = scaler.transform(dataset)"
      ],
      "execution_count": 0,
      "outputs": []
    },
    {
      "cell_type": "code",
      "metadata": {
        "id": "qRO3AINljRdD",
        "colab_type": "code",
        "colab": {}
      },
      "source": [
        "\n",
        "data_mean = dataset[:num_train].mean(axis=0)\n",
        "data_std = dataset[:num_train].std(axis=0)\n",
        "dataset1 = (dataset-data_mean)/data_std"
      ],
      "execution_count": 0,
      "outputs": []
    },
    {
      "cell_type": "code",
      "metadata": {
        "id": "C_AXrD3EjfFu",
        "colab_type": "code",
        "colab": {
          "base_uri": "https://localhost:8080/",
          "height": 145
        },
        "outputId": "0efaf37c-a431-45df-8db1-05b43ce5a755"
      },
      "source": [
        "dataset1"
      ],
      "execution_count": 21,
      "outputs": [
        {
          "output_type": "execute_result",
          "data": {
            "text/plain": [
              "array([[ 0.55824921,  2.15342108, -1.26078906,  0.05881265],\n",
              "       [ 0.57138224,  2.16854991, -1.31636643,  0.04040856],\n",
              "       [ 0.56822954,  2.1755579 , -1.31146616,  0.03362873],\n",
              "       ...,\n",
              "       [ 8.27988184,  2.08998819,  3.20181055,  8.39206693],\n",
              "       [ 8.20250834,  2.09555466,  3.46612595,  8.00428066],\n",
              "       [ 8.23473116,  2.0845232 ,  3.34444539,  8.27913296]])"
            ]
          },
          "metadata": {
            "tags": []
          },
          "execution_count": 21
        }
      ]
    },
    {
      "cell_type": "code",
      "metadata": {
        "id": "Is_tEybMbdgn",
        "colab_type": "code",
        "colab": {}
      },
      "source": [
        "reverse_dataset = dataset1*data_std+data_mean"
      ],
      "execution_count": 0,
      "outputs": []
    },
    {
      "cell_type": "code",
      "metadata": {
        "id": "j3f3F6GLcbu4",
        "colab_type": "code",
        "colab": {
          "base_uri": "https://localhost:8080/",
          "height": 145
        },
        "outputId": "b6c2f4b9-346e-45e7-8487-ba053db60d9e"
      },
      "source": [
        "reverse_dataset"
      ],
      "execution_count": 23,
      "outputs": [
        {
          "output_type": "execute_result",
          "data": {
            "text/plain": [
              "array([[-140.36985762,   87.54646185,  -32.02725076,   97.856789  ],\n",
              "       [-138.85138368,   88.15093459,  -33.3273697 ,   97.451012  ],\n",
              "       [-139.2159068 ,   88.43093906,  -33.21273796,   97.301529  ],\n",
              "       ...,\n",
              "       [ 752.42436329,   85.01199922,   72.36615503,  281.589996  ],\n",
              "       [ 743.47824817,   85.23440782,   78.54927426,  273.040009  ],\n",
              "       [ 747.20393111,   84.79364565,   75.702806  ,  279.100006  ]])"
            ]
          },
          "metadata": {
            "tags": []
          },
          "execution_count": 23
        }
      ]
    },
    {
      "cell_type": "code",
      "metadata": {
        "id": "vgO-wrBmjivH",
        "colab_type": "code",
        "colab": {
          "base_uri": "https://localhost:8080/",
          "height": 145
        },
        "outputId": "65e38f5e-fdf0-4f9a-af8d-e76fd3500a68"
      },
      "source": [
        "data_scaled"
      ],
      "execution_count": 24,
      "outputs": [
        {
          "output_type": "execute_result",
          "data": {
            "text/plain": [
              "array([[ 0.55824921,  2.15342108, -1.26078906,  0.05881265],\n",
              "       [ 0.57138224,  2.16854991, -1.31636643,  0.04040856],\n",
              "       [ 0.56822954,  2.1755579 , -1.31146616,  0.03362873],\n",
              "       ...,\n",
              "       [ 8.27988184,  2.08998819,  3.20181055,  8.39206693],\n",
              "       [ 8.20250834,  2.09555466,  3.46612595,  8.00428066],\n",
              "       [ 8.23473116,  2.0845232 ,  3.34444539,  8.27913296]])"
            ]
          },
          "metadata": {
            "tags": []
          },
          "execution_count": 24
        }
      ]
    },
    {
      "cell_type": "code",
      "metadata": {
        "id": "3lOce8-pc6SO",
        "colab_type": "code",
        "colab": {
          "base_uri": "https://localhost:8080/",
          "height": 54
        },
        "outputId": "f93e28b8-27bc-4e3e-dd1b-a51d4bffe172"
      },
      "source": [
        "y_val_single"
      ],
      "execution_count": 36,
      "outputs": [
        {
          "output_type": "execute_result",
          "data": {
            "text/plain": [
              "array([3.1238593 , 3.04093604, 3.07153152, ..., 8.39206693, 8.00428066,\n",
              "       8.27913296])"
            ]
          },
          "metadata": {
            "tags": []
          },
          "execution_count": 36
        }
      ]
    },
    {
      "cell_type": "code",
      "metadata": {
        "id": "IzlALXnha433",
        "colab_type": "code",
        "colab": {}
      },
      "source": [
        "def multivariate_data(dataset, target, start_index, end_index, history_size,\n",
        "                      target_size, step, single_step=False):\n",
        "  data = []\n",
        "  labels = []\n",
        "\n",
        "  start_index = start_index + history_size\n",
        "  if end_index is None:\n",
        "    end_index = len(dataset) - target_size\n",
        "\n",
        "  for i in range(start_index, end_index):\n",
        "    indices = range(i-history_size, i, step)\n",
        "    data.append(dataset[indices])\n",
        "\n",
        "    if single_step:\n",
        "      labels.append(target[i+target_size])\n",
        "    else:\n",
        "      labels.append(target[i:i+target_size])\n",
        "\n",
        "  return np.array(data), np.array(labels)"
      ],
      "execution_count": 0,
      "outputs": []
    },
    {
      "cell_type": "code",
      "metadata": {
        "id": "eIvjCs4Pa65W",
        "colab_type": "code",
        "colab": {}
      },
      "source": [
        "past_history = 3\n",
        "future_target = 0\n",
        "STEP = 1\n",
        "\n",
        "x_train_single, y_train_single = multivariate_data(data_scaled, data_scaled[:, -1], 0,\n",
        "                                                   num_train, past_history,\n",
        "                                                   future_target, STEP,\n",
        "                                                   single_step=True)\n",
        "x_val_single, y_val_single = multivariate_data(data_scaled, data_scaled[:, -1],\n",
        "                                               num_train, None, past_history,\n",
        "                                               future_target, STEP,\n",
        "                                               single_step=True)"
      ],
      "execution_count": 0,
      "outputs": []
    },
    {
      "cell_type": "code",
      "metadata": {
        "id": "EGUBNBW1m7jV",
        "colab_type": "code",
        "colab": {
          "base_uri": "https://localhost:8080/",
          "height": 54
        },
        "outputId": "0517e891-6615-4050-a5df-fd13f2e3fd71"
      },
      "source": [
        "y_train_single"
      ],
      "execution_count": 129,
      "outputs": [
        {
          "output_type": "execute_result",
          "data": {
            "text/plain": [
              "array([ 9.36830372e-02, -2.73819313e-04,  8.44344796e-03, ...,\n",
              "        3.05059865e+00,  3.08722895e+00,  3.14841650e+00])"
            ]
          },
          "metadata": {
            "tags": []
          },
          "execution_count": 129
        }
      ]
    },
    {
      "cell_type": "code",
      "metadata": {
        "id": "ZUyZ9zPQotpf",
        "colab_type": "code",
        "colab": {}
      },
      "source": [
        ""
      ],
      "execution_count": 0,
      "outputs": []
    },
    {
      "cell_type": "code",
      "metadata": {
        "id": "C_ALGifAl0jU",
        "colab_type": "code",
        "colab": {
          "base_uri": "https://localhost:8080/",
          "height": 508
        },
        "outputId": "c47cf1fb-d8eb-4e64-b688-edc38c82822d"
      },
      "source": [
        "x_train_single[0:4]"
      ],
      "execution_count": 134,
      "outputs": [
        {
          "output_type": "execute_result",
          "data": {
            "text/plain": [
              "array([[[ 5.58249206e-01,  2.15342108e+00, -1.26078906e+00,\n",
              "          5.88126528e-02],\n",
              "        [ 5.71382241e-01,  2.16854991e+00, -1.31636643e+00,\n",
              "          4.04085604e-02],\n",
              "        [ 5.68229540e-01,  2.17555790e+00, -1.31146616e+00,\n",
              "          3.36287307e-02]],\n",
              "\n",
              "       [[ 5.71382241e-01,  2.16854991e+00, -1.31636643e+00,\n",
              "          4.04085604e-02],\n",
              "        [ 5.68229540e-01,  2.17555790e+00, -1.31146616e+00,\n",
              "          3.36287307e-02],\n",
              "        [ 5.88792458e-01,  2.18754335e+00, -1.38759816e+00,\n",
              "          9.36830372e-02]],\n",
              "\n",
              "       [[ 5.68229540e-01,  2.17555790e+00, -1.31146616e+00,\n",
              "          3.36287307e-02],\n",
              "        [ 5.88792458e-01,  2.18754335e+00, -1.38759816e+00,\n",
              "          9.36830372e-02],\n",
              "        [ 5.79989394e-01,  2.20098153e+00, -1.35398801e+00,\n",
              "         -2.73819313e-04]],\n",
              "\n",
              "       [[ 5.88792458e-01,  2.18754335e+00, -1.38759816e+00,\n",
              "          9.36830372e-02],\n",
              "        [ 5.79989394e-01,  2.20098153e+00, -1.35398801e+00,\n",
              "         -2.73819313e-04],\n",
              "        [ 5.68430622e-01,  2.20637997e+00, -1.31683500e+00,\n",
              "          8.44344796e-03]]])"
            ]
          },
          "metadata": {
            "tags": []
          },
          "execution_count": 134
        }
      ]
    },
    {
      "cell_type": "code",
      "metadata": {
        "id": "F7PEa0A2bKxe",
        "colab_type": "code",
        "colab": {
          "base_uri": "https://localhost:8080/",
          "height": 35
        },
        "outputId": "2577fdc2-0456-4af2-a06d-20c45d37c09f"
      },
      "source": [
        "import math\n",
        "import matplotlib\n",
        "import numpy as np\n",
        "import pandas as pd\n",
        "import seaborn as sns\n",
        "import time\n",
        "\n",
        "from datetime import date\n",
        "from matplotlib import pyplot as plt\n",
        "from numpy.random import seed\n",
        "from pylab import rcParams\n",
        "from sklearn.metrics import mean_squared_error\n",
        "from tqdm import tqdm_notebook\n",
        "from sklearn.preprocessing import StandardScaler\n",
        "import tensorflow as tf\n",
        "from keras.models import Sequential\n",
        "from keras.layers import Dense, Dropout, LSTM\n",
        "from keras.utils import plot_model"
      ],
      "execution_count": 27,
      "outputs": [
        {
          "output_type": "stream",
          "text": [
            "Using TensorFlow backend.\n"
          ],
          "name": "stderr"
        }
      ]
    },
    {
      "cell_type": "code",
      "metadata": {
        "id": "UVgGRGw0a9hL",
        "colab_type": "code",
        "colab": {}
      },
      "source": [
        "#BATCH_SIZE = 256\n",
        "BATCH_SIZE = 8\n",
        "BUFFER_SIZE = 10000\n",
        "\n",
        "train_data_single = tf.data.Dataset.from_tensor_slices((x_train_single, y_train_single))\n",
        "train_data_single = train_data_single.cache().shuffle(BUFFER_SIZE).batch(BATCH_SIZE).repeat()\n",
        "\n",
        "val_data_single = tf.data.Dataset.from_tensor_slices((x_val_single, y_val_single))\n",
        "val_data_single = val_data_single.batch(BATCH_SIZE).repeat()"
      ],
      "execution_count": 0,
      "outputs": []
    },
    {
      "cell_type": "code",
      "metadata": {
        "id": "aJtojXfYbRMO",
        "colab_type": "code",
        "colab": {}
      },
      "source": [
        "single_step_model = tf.keras.models.Sequential()\n",
        "single_step_model.add(tf.keras.layers.LSTM(256,\n",
        "                                           input_shape=x_train_single.shape[-2:],return_sequences=True))\n",
        "#single_step_model.add(tf.keras.layers.Dropout(0.99)) # Add dropout with a probability of 0.5\n",
        "single_step_model.add(tf.keras.layers.LSTM(128, activation='relu'))\n",
        "#single_step_model.add(tf.keras.layers.Dropout(0.99)) # Add dropout with a probability of 0.5\n",
        "single_step_model.add(tf.keras.layers.Dense(1))\n",
        "\n",
        "single_step_model.compile(optimizer='nadam', loss='mae')"
      ],
      "execution_count": 0,
      "outputs": []
    },
    {
      "cell_type": "code",
      "metadata": {
        "id": "HBOgGy7nbT9m",
        "colab_type": "code",
        "colab": {
          "base_uri": "https://localhost:8080/",
          "height": 1000
        },
        "outputId": "a2ef3ca1-8649-46b9-a532-c237f8e1da83"
      },
      "source": [
        "EPOCHS = 50\n",
        "EVALUATION_INTERVAL = 200\n",
        "single_step_history = single_step_model.fit(train_data_single, epochs=EPOCHS,\n",
        "                                            steps_per_epoch=EVALUATION_INTERVAL,\n",
        "                                            validation_data=val_data_single,\n",
        "                                            validation_steps=50)"
      ],
      "execution_count": 152,
      "outputs": [
        {
          "output_type": "stream",
          "text": [
            "Epoch 1/50\n",
            "200/200 [==============================] - 8s 40ms/step - loss: 1.0687 - val_loss: 3.2074\n",
            "Epoch 2/50\n",
            "200/200 [==============================] - 4s 19ms/step - loss: 0.8912 - val_loss: 3.2822\n",
            "Epoch 3/50\n",
            "200/200 [==============================] - 4s 19ms/step - loss: 0.8526 - val_loss: 3.3277\n",
            "Epoch 4/50\n",
            "200/200 [==============================] - 4s 19ms/step - loss: 0.7995 - val_loss: 3.3969\n",
            "Epoch 5/50\n",
            "200/200 [==============================] - 4s 19ms/step - loss: 0.7799 - val_loss: 3.4157\n",
            "Epoch 6/50\n",
            "200/200 [==============================] - 4s 20ms/step - loss: 0.7998 - val_loss: 3.4042\n",
            "Epoch 7/50\n",
            "200/200 [==============================] - 4s 20ms/step - loss: 0.7559 - val_loss: 3.4347\n",
            "Epoch 8/50\n",
            "200/200 [==============================] - 4s 19ms/step - loss: 0.7132 - val_loss: 3.3957\n",
            "Epoch 9/50\n",
            "200/200 [==============================] - 4s 20ms/step - loss: 0.7745 - val_loss: 3.4199\n",
            "Epoch 10/50\n",
            "200/200 [==============================] - 4s 20ms/step - loss: 0.7575 - val_loss: 3.4435\n",
            "Epoch 11/50\n",
            "200/200 [==============================] - 4s 20ms/step - loss: 0.7181 - val_loss: 3.4571\n",
            "Epoch 12/50\n",
            "200/200 [==============================] - 4s 20ms/step - loss: 0.7287 - val_loss: 3.4272\n",
            "Epoch 13/50\n",
            "200/200 [==============================] - 4s 20ms/step - loss: 0.6999 - val_loss: 3.4126\n",
            "Epoch 14/50\n",
            "200/200 [==============================] - 4s 20ms/step - loss: 0.7404 - val_loss: 3.4425\n",
            "Epoch 15/50\n",
            "200/200 [==============================] - 4s 20ms/step - loss: 0.7174 - val_loss: 3.4215\n",
            "Epoch 16/50\n",
            "200/200 [==============================] - 4s 20ms/step - loss: 0.7641 - val_loss: 3.4672\n",
            "Epoch 17/50\n",
            "200/200 [==============================] - 4s 20ms/step - loss: 0.7104 - val_loss: 3.4738\n",
            "Epoch 18/50\n",
            "200/200 [==============================] - 4s 20ms/step - loss: 0.7150 - val_loss: 3.4503\n",
            "Epoch 19/50\n",
            "200/200 [==============================] - 4s 20ms/step - loss: 0.7363 - val_loss: 3.4464\n",
            "Epoch 20/50\n",
            "200/200 [==============================] - 4s 19ms/step - loss: 0.7249 - val_loss: 3.4743\n",
            "Epoch 21/50\n",
            "200/200 [==============================] - 4s 19ms/step - loss: 0.7618 - val_loss: 3.4729\n",
            "Epoch 22/50\n",
            "200/200 [==============================] - 4s 20ms/step - loss: 0.7402 - val_loss: 3.4562\n",
            "Epoch 23/50\n",
            "200/200 [==============================] - 4s 19ms/step - loss: 0.7198 - val_loss: 3.4246\n",
            "Epoch 24/50\n",
            "200/200 [==============================] - 4s 19ms/step - loss: 0.7102 - val_loss: 3.4935\n",
            "Epoch 25/50\n",
            "200/200 [==============================] - 4s 19ms/step - loss: 0.7425 - val_loss: 3.4378\n",
            "Epoch 26/50\n",
            "200/200 [==============================] - 4s 20ms/step - loss: 0.7073 - val_loss: 3.4012\n",
            "Epoch 27/50\n",
            "200/200 [==============================] - 4s 19ms/step - loss: 0.7157 - val_loss: 3.4166\n",
            "Epoch 28/50\n",
            "200/200 [==============================] - 4s 19ms/step - loss: 0.7297 - val_loss: 3.4142\n",
            "Epoch 29/50\n",
            "200/200 [==============================] - 4s 19ms/step - loss: 0.7145 - val_loss: 3.4308\n",
            "Epoch 30/50\n",
            "200/200 [==============================] - 4s 19ms/step - loss: 0.7276 - val_loss: 3.4812\n",
            "Epoch 31/50\n",
            "200/200 [==============================] - 4s 19ms/step - loss: 0.7278 - val_loss: 3.4194\n",
            "Epoch 32/50\n",
            "200/200 [==============================] - 4s 19ms/step - loss: 0.7316 - val_loss: 3.4637\n",
            "Epoch 33/50\n",
            "200/200 [==============================] - 4s 19ms/step - loss: 0.7068 - val_loss: 3.4630\n",
            "Epoch 34/50\n",
            "200/200 [==============================] - 4s 20ms/step - loss: 0.7297 - val_loss: 3.5051\n",
            "Epoch 35/50\n",
            "200/200 [==============================] - 4s 19ms/step - loss: 0.7367 - val_loss: 3.4770\n",
            "Epoch 36/50\n",
            "200/200 [==============================] - 4s 19ms/step - loss: 0.7032 - val_loss: 3.4501\n",
            "Epoch 37/50\n",
            "200/200 [==============================] - 4s 20ms/step - loss: 0.6984 - val_loss: 3.4705\n",
            "Epoch 38/50\n",
            "200/200 [==============================] - 4s 20ms/step - loss: 0.7226 - val_loss: 3.5070\n",
            "Epoch 39/50\n",
            "200/200 [==============================] - 4s 19ms/step - loss: 0.7319 - val_loss: 3.4905\n",
            "Epoch 40/50\n",
            "200/200 [==============================] - 4s 19ms/step - loss: 0.7119 - val_loss: 3.4936\n",
            "Epoch 41/50\n",
            "200/200 [==============================] - 4s 19ms/step - loss: 0.7165 - val_loss: 3.4715\n",
            "Epoch 42/50\n",
            "200/200 [==============================] - 4s 19ms/step - loss: 0.7006 - val_loss: 3.2866\n",
            "Epoch 43/50\n",
            "200/200 [==============================] - 4s 20ms/step - loss: 0.7020 - val_loss: 3.4870\n",
            "Epoch 44/50\n",
            "200/200 [==============================] - 4s 19ms/step - loss: 0.7263 - val_loss: 3.4343\n",
            "Epoch 45/50\n",
            "200/200 [==============================] - 4s 20ms/step - loss: 0.7319 - val_loss: 3.4459\n",
            "Epoch 46/50\n",
            "200/200 [==============================] - 4s 19ms/step - loss: 0.7358 - val_loss: 3.4570\n",
            "Epoch 47/50\n",
            "200/200 [==============================] - 4s 19ms/step - loss: 0.7120 - val_loss: 3.2900\n",
            "Epoch 48/50\n",
            "200/200 [==============================] - 4s 20ms/step - loss: 0.7406 - val_loss: 3.4109\n",
            "Epoch 49/50\n",
            "200/200 [==============================] - 4s 20ms/step - loss: 0.6894 - val_loss: 3.4467\n",
            "Epoch 50/50\n",
            "200/200 [==============================] - 4s 19ms/step - loss: 0.7036 - val_loss: 3.4244\n"
          ],
          "name": "stdout"
        }
      ]
    },
    {
      "cell_type": "code",
      "metadata": {
        "id": "Tt7diIc5bnFF",
        "colab_type": "code",
        "colab": {}
      },
      "source": [
        "pred = single_step_model.predict(x_val_single)"
      ],
      "execution_count": 0,
      "outputs": []
    },
    {
      "cell_type": "code",
      "metadata": {
        "id": "uCXdsLXfj1Um",
        "colab_type": "code",
        "colab": {
          "base_uri": "https://localhost:8080/",
          "height": 35
        },
        "outputId": "42c3e1db-e8a9-42f7-b86d-29e6ef196d32"
      },
      "source": [
        "data_std[-1],data_mean[-1]"
      ],
      "execution_count": 163,
      "outputs": [
        {
          "output_type": "execute_result",
          "data": {
            "text/plain": [
              "(22.04819400426973, 96.56007622133258)"
            ]
          },
          "metadata": {
            "tags": []
          },
          "execution_count": 163
        }
      ]
    },
    {
      "cell_type": "code",
      "metadata": {
        "id": "YqPwthnQjsXv",
        "colab_type": "code",
        "colab": {}
      },
      "source": [
        "pred_y = pred*data_std[-1]+data_mean[-1]\n",
        "y_val_single_y = y_val_single*data_std[-1]+data_mean[-1]"
      ],
      "execution_count": 0,
      "outputs": []
    },
    {
      "cell_type": "code",
      "metadata": {
        "id": "vKRUoSijkAW4",
        "colab_type": "code",
        "colab": {
          "base_uri": "https://localhost:8080/",
          "height": 145
        },
        "outputId": "1e338550-8f69-437b-e79e-6ac8756b8a98"
      },
      "source": [
        "pred_y"
      ],
      "execution_count": 162,
      "outputs": [
        {
          "output_type": "execute_result",
          "data": {
            "text/plain": [
              "array([[ 67.84413 ],\n",
              "       [ 67.776764],\n",
              "       [ 67.83771 ],\n",
              "       ...,\n",
              "       [108.91074 ],\n",
              "       [108.86406 ],\n",
              "       [108.81795 ]], dtype=float32)"
            ]
          },
          "metadata": {
            "tags": []
          },
          "execution_count": 162
        }
      ]
    },
    {
      "cell_type": "code",
      "metadata": {
        "id": "zo-95Vpg3fYK",
        "colab_type": "code",
        "colab": {
          "base_uri": "https://localhost:8080/",
          "height": 54
        },
        "outputId": "0e6a2b17-968d-4da1-9781-4178eb21538c"
      },
      "source": [
        "y_val_single_y"
      ],
      "execution_count": 165,
      "outputs": [
        {
          "output_type": "execute_result",
          "data": {
            "text/plain": [
              "array([ 65.88625309,  66.19320805,  65.96979135, ..., 142.64054125,\n",
              "       142.76327195, 142.52004822])"
            ]
          },
          "metadata": {
            "tags": []
          },
          "execution_count": 165
        }
      ]
    },
    {
      "cell_type": "code",
      "metadata": {
        "id": "QqcbiuLk3oXw",
        "colab_type": "code",
        "colab": {
          "base_uri": "https://localhost:8080/",
          "height": 54
        },
        "outputId": "cae8d08f-0adb-40e1-ee83-aa7ad08596b8"
      },
      "source": [
        "y_cv.values"
      ],
      "execution_count": 167,
      "outputs": [
        {
          "output_type": "execute_result",
          "data": {
            "text/plain": [
              "array([165.435532, 163.607224, 164.281799, ..., 281.589996, 273.040009,\n",
              "       279.100006])"
            ]
          },
          "metadata": {
            "tags": []
          },
          "execution_count": 167
        }
      ]
    },
    {
      "cell_type": "code",
      "metadata": {
        "id": "3d0Gz5RJbpSi",
        "colab_type": "code",
        "colab": {
          "base_uri": "https://localhost:8080/",
          "height": 35
        },
        "outputId": "7e106bed-18a5-441a-f154-719a82bbb918"
      },
      "source": [
        "x_val_single.shape"
      ],
      "execution_count": 145,
      "outputs": [
        {
          "output_type": "execute_result",
          "data": {
            "text/plain": [
              "(497, 3, 4)"
            ]
          },
          "metadata": {
            "tags": []
          },
          "execution_count": 145
        }
      ]
    },
    {
      "cell_type": "code",
      "metadata": {
        "id": "_v2aDpF_cCeC",
        "colab_type": "code",
        "colab": {}
      },
      "source": [
        "df1 = df_dropped_na[-497:]"
      ],
      "execution_count": 0,
      "outputs": []
    },
    {
      "cell_type": "code",
      "metadata": {
        "id": "Ym1o6YR_kgeH",
        "colab_type": "code",
        "colab": {}
      },
      "source": [
        "y_cv = y_pre[-497:]"
      ],
      "execution_count": 0,
      "outputs": []
    },
    {
      "cell_type": "code",
      "metadata": {
        "id": "2xrsMAI_kkke",
        "colab_type": "code",
        "colab": {
          "base_uri": "https://localhost:8080/",
          "height": 254
        },
        "outputId": "1487c139-a68e-48ba-bb82-2c162f8df8f2"
      },
      "source": [
        "y_cv"
      ],
      "execution_count": 126,
      "outputs": [
        {
          "output_type": "execute_result",
          "data": {
            "text/plain": [
              "Date\n",
              "2014-06-26 00:00:00-04:00    174.289978\n",
              "2014-06-27 00:00:00-04:00    174.628860\n",
              "2014-06-30 00:00:00-04:00    174.539703\n",
              "2014-07-01 00:00:00-04:00    175.707932\n",
              "2014-07-02 00:00:00-04:00    175.886230\n",
              "                                ...    \n",
              "2020-04-16 00:00:00-04:00    279.100006\n",
              "2020-04-17 00:00:00-04:00    286.640015\n",
              "2020-04-20 00:00:00-04:00    281.589996\n",
              "2020-04-21 00:00:00-04:00    273.040009\n",
              "2020-04-22 00:00:00-04:00    279.100006\n",
              "Name: Adj Close, Length: 1440, dtype: float64"
            ]
          },
          "metadata": {
            "tags": []
          },
          "execution_count": 126
        }
      ]
    },
    {
      "cell_type": "code",
      "metadata": {
        "id": "jQ2XzKAMbrZq",
        "colab_type": "code",
        "colab": {
          "base_uri": "https://localhost:8080/",
          "height": 491
        },
        "outputId": "106e8ebc-fad4-44bb-ab55-a37111f95844"
      },
      "source": [
        "from pylab import rcParams\n",
        "# Plot adjusted close over time\n",
        "rcParams['figure.figsize'] = 10, 8 # width 10, height 8\n",
        "\n",
        "est_df = pd.DataFrame({'pred': pred_y.reshape(-1), \n",
        "                       'y_cv': y_cv.values.reshape(-1),\n",
        "                       'date': df1.index})\n",
        "ax = est_df.plot(x='date', y='pred', style='r-', grid=True)\n",
        "ax = est_df.plot(x='date', y='y_cv', style='b', grid=True, ax=ax)\n",
        "ax.set_xlabel(\"date\")\n",
        "ax.set_ylabel(\"USD\")"
      ],
      "execution_count": 150,
      "outputs": [
        {
          "output_type": "execute_result",
          "data": {
            "text/plain": [
              "Text(0, 0.5, 'USD')"
            ]
          },
          "metadata": {
            "tags": []
          },
          "execution_count": 150
        },
        {
          "output_type": "display_data",
          "data": {
            "image/png": "[encoded data removed]",
            "text/plain": [
              "<Figure size 720x576 with 1 Axes>"
            ]
          },
          "metadata": {
            "tags": [],
            "needs_background": "light"
          }
        }
      ]
    },
    {
      "cell_type": "code",
      "metadata": {
        "id": "NaFI5NrbrrI7",
        "colab_type": "code",
        "colab": {
          "base_uri": "https://localhost:8080/",
          "height": 491
        },
        "outputId": "958bca8f-cb8b-41a0-a92d-0a11f0d123dc"
      },
      "source": [
        "from pylab import rcParams\n",
        "# Plot adjusted close over time\n",
        "rcParams['figure.figsize'] = 10, 8 # width 10, height 8\n",
        "\n",
        "est_df = pd.DataFrame({'pred': pred.reshape(-1), \n",
        "                       'y_cv': y_val_single.reshape(-1),\n",
        "                       'date': df1.index})\n",
        "ax = est_df.plot(x='date', y='pred', style='r-', grid=True)\n",
        "ax = est_df.plot(x='date', y='y_cv', style='b', grid=True, ax=ax)\n",
        "ax.set_xlabel(\"date\")\n",
        "ax.set_ylabel(\"USD\")"
      ],
      "execution_count": 154,
      "outputs": [
        {
          "output_type": "execute_result",
          "data": {
            "text/plain": [
              "Text(0, 0.5, 'USD')"
            ]
          },
          "metadata": {
            "tags": []
          },
          "execution_count": 154
        },
        {
          "output_type": "display_data",
          "data": {
            "image/png": "[encoded data removed]",
            "text/plain": [
              "<Figure size 720x576 with 1 Axes>"
            ]
          },
          "metadata": {
            "tags": [],
            "needs_background": "light"
          }
        }
      ]
    },
    {
      "cell_type": "code",
      "metadata": {
        "id": "uj0lJ2cseeKr",
        "colab_type": "code",
        "colab": {}
      },
      "source": [
        "def get_mape(y_true, y_pred): \n",
        "    \"\"\"\n",
        "    Compute mean absolute percentage error (MAPE)\n",
        "    \"\"\"\n",
        "    y_true, y_pred = np.array(y_true), np.array(y_pred)\n",
        "    return np.mean(np.abs((y_true - y_pred) / y_true)) * 100\n"
      ],
      "execution_count": 0,
      "outputs": []
    },
    {
      "cell_type": "code",
      "metadata": {
        "id": "pqV8071LefJ1",
        "colab_type": "code",
        "colab": {
          "base_uri": "https://localhost:8080/",
          "height": 35
        },
        "outputId": "66bcdb1a-cc69-460b-cdbc-f083834d1e3b"
      },
      "source": [
        "get_mape(pred_y,y_cv.values)"
      ],
      "execution_count": 65,
      "outputs": [
        {
          "output_type": "execute_result",
          "data": {
            "text/plain": [
              "21.67570292928522"
            ]
          },
          "metadata": {
            "tags": []
          },
          "execution_count": 65
        }
      ]
    }
  ]
}